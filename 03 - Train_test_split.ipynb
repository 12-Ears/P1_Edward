{
 "cells": [
  {
   "cell_type": "markdown",
   "id": "6086674e-9868-4607-b8e0-71aa1b3f4f63",
   "metadata": {},
   "source": [
    "# Importing packages"
   ]
  },
  {
   "cell_type": "code",
   "execution_count": 1,
   "id": "fb1ea08f-2e47-4e58-9873-8baa37904f13",
   "metadata": {},
   "outputs": [],
   "source": [
    "import pandas as pd\n",
    "from imblearn.combine import SMOTEENN\n",
    "from imblearn.over_sampling import SMOTE\n",
    "from imblearn.under_sampling import EditedNearestNeighbours\n",
    "from sklearn.model_selection import train_test_split"
   ]
  },
  {
   "cell_type": "markdown",
   "id": "fdcf216c",
   "metadata": {},
   "source": [
    "# Default Values"
   ]
  },
  {
   "cell_type": "code",
   "execution_count": 2,
   "id": "d72f85fa",
   "metadata": {},
   "outputs": [],
   "source": [
    "seed = 12 # 12 ears\n",
    "y = 'OverallPoF' # target"
   ]
  },
  {
   "cell_type": "markdown",
   "id": "72d04fc6-babe-40d7-a634-3b20a6465a2e",
   "metadata": {},
   "source": [
    "# Loading data set"
   ]
  },
  {
   "cell_type": "code",
   "execution_count": 3,
   "id": "4fc213a4-f42d-4bc7-b636-de5a888b05b3",
   "metadata": {},
   "outputs": [],
   "source": [
    "a_data = pd.read_csv('00 - Dataset/02 - Cleaning Results/a_data.csv')\n",
    "y_data = pd.read_csv('00 - Dataset/02 - Cleaning Results/y_data.csv')\n",
    "p_data = pd.read_csv('00 - Dataset/02 - Cleaning Results/p_data.csv')"
   ]
  },
  {
   "cell_type": "code",
   "execution_count": 4,
   "id": "bc519f73-418c-44c1-a43f-383b39a613c7",
   "metadata": {},
   "outputs": [
    {
     "data": {
      "text/html": [
       "<div>\n",
       "<style scoped>\n",
       "    .dataframe tbody tr th:only-of-type {\n",
       "        vertical-align: middle;\n",
       "    }\n",
       "\n",
       "    .dataframe tbody tr th {\n",
       "        vertical-align: top;\n",
       "    }\n",
       "\n",
       "    .dataframe thead th {\n",
       "        text-align: right;\n",
       "    }\n",
       "</style>\n",
       "<table border=\"1\" class=\"dataframe\">\n",
       "  <thead>\n",
       "    <tr style=\"text-align: right;\">\n",
       "      <th></th>\n",
       "      <th>Gender</th>\n",
       "      <th>AgeM</th>\n",
       "      <th>ECV</th>\n",
       "      <th>TPP</th>\n",
       "      <th>SC</th>\n",
       "      <th>OAE1</th>\n",
       "      <th>OAE1.4</th>\n",
       "      <th>OAE2</th>\n",
       "      <th>OAE2.8</th>\n",
       "      <th>OAE4</th>\n",
       "      <th>...</th>\n",
       "      <th>f6168</th>\n",
       "      <th>f6349</th>\n",
       "      <th>f6535</th>\n",
       "      <th>f6727</th>\n",
       "      <th>f6924</th>\n",
       "      <th>f7127</th>\n",
       "      <th>f7336</th>\n",
       "      <th>f7550</th>\n",
       "      <th>f7772</th>\n",
       "      <th>f8000</th>\n",
       "    </tr>\n",
       "  </thead>\n",
       "  <tbody>\n",
       "    <tr>\n",
       "      <th>0</th>\n",
       "      <td>0</td>\n",
       "      <td>112</td>\n",
       "      <td>1.08</td>\n",
       "      <td>-189</td>\n",
       "      <td>0.52</td>\n",
       "      <td>3.0</td>\n",
       "      <td>10.0</td>\n",
       "      <td>18.0</td>\n",
       "      <td>14.0</td>\n",
       "      <td>8.0</td>\n",
       "      <td>...</td>\n",
       "      <td>0.5370</td>\n",
       "      <td>0.4869</td>\n",
       "      <td>0.4301</td>\n",
       "      <td>0.4080</td>\n",
       "      <td>0.3804</td>\n",
       "      <td>0.3291</td>\n",
       "      <td>0.2951</td>\n",
       "      <td>0.2530</td>\n",
       "      <td>0.2282</td>\n",
       "      <td>0.2003</td>\n",
       "    </tr>\n",
       "    <tr>\n",
       "      <th>1</th>\n",
       "      <td>0</td>\n",
       "      <td>114</td>\n",
       "      <td>1.28</td>\n",
       "      <td>-49</td>\n",
       "      <td>1.28</td>\n",
       "      <td>7.0</td>\n",
       "      <td>4.0</td>\n",
       "      <td>9.0</td>\n",
       "      <td>5.0</td>\n",
       "      <td>6.0</td>\n",
       "      <td>...</td>\n",
       "      <td>0.2636</td>\n",
       "      <td>0.2578</td>\n",
       "      <td>0.2443</td>\n",
       "      <td>0.2549</td>\n",
       "      <td>0.2604</td>\n",
       "      <td>0.2397</td>\n",
       "      <td>0.2299</td>\n",
       "      <td>0.2048</td>\n",
       "      <td>0.1917</td>\n",
       "      <td>0.1659</td>\n",
       "    </tr>\n",
       "  </tbody>\n",
       "</table>\n",
       "<p>2 rows × 119 columns</p>\n",
       "</div>"
      ],
      "text/plain": [
       "   Gender  AgeM   ECV  TPP    SC  OAE1  OAE1.4  OAE2  OAE2.8  OAE4  ...  \\\n",
       "0       0   112  1.08 -189  0.52   3.0    10.0  18.0    14.0   8.0  ...   \n",
       "1       0   114  1.28  -49  1.28   7.0     4.0   9.0     5.0   6.0  ...   \n",
       "\n",
       "    f6168   f6349   f6535   f6727   f6924   f7127   f7336   f7550   f7772  \\\n",
       "0  0.5370  0.4869  0.4301  0.4080  0.3804  0.3291  0.2951  0.2530  0.2282   \n",
       "1  0.2636  0.2578  0.2443  0.2549  0.2604  0.2397  0.2299  0.2048  0.1917   \n",
       "\n",
       "    f8000  \n",
       "0  0.2003  \n",
       "1  0.1659  \n",
       "\n",
       "[2 rows x 119 columns]"
      ]
     },
     "execution_count": 4,
     "metadata": {},
     "output_type": "execute_result"
    }
   ],
   "source": [
    "a_data.head(2)"
   ]
  },
  {
   "cell_type": "code",
   "execution_count": 5,
   "id": "91533ad6-291a-4034-b572-2a4999407106",
   "metadata": {},
   "outputs": [
    {
     "data": {
      "text/html": [
       "<div>\n",
       "<style scoped>\n",
       "    .dataframe tbody tr th:only-of-type {\n",
       "        vertical-align: middle;\n",
       "    }\n",
       "\n",
       "    .dataframe tbody tr th {\n",
       "        vertical-align: top;\n",
       "    }\n",
       "\n",
       "    .dataframe thead th {\n",
       "        text-align: right;\n",
       "    }\n",
       "</style>\n",
       "<table border=\"1\" class=\"dataframe\">\n",
       "  <thead>\n",
       "    <tr style=\"text-align: right;\">\n",
       "      <th></th>\n",
       "      <th>Gender</th>\n",
       "      <th>AgeM</th>\n",
       "      <th>ECV</th>\n",
       "      <th>TPP</th>\n",
       "      <th>SC</th>\n",
       "      <th>OAE1</th>\n",
       "      <th>OAE1.4</th>\n",
       "      <th>OAE2</th>\n",
       "      <th>OAE2.8</th>\n",
       "      <th>OAE4</th>\n",
       "      <th>...</th>\n",
       "      <th>f6168</th>\n",
       "      <th>f6349</th>\n",
       "      <th>f6535</th>\n",
       "      <th>f6727</th>\n",
       "      <th>f6924</th>\n",
       "      <th>f7127</th>\n",
       "      <th>f7336</th>\n",
       "      <th>f7550</th>\n",
       "      <th>f7772</th>\n",
       "      <th>f8000</th>\n",
       "    </tr>\n",
       "  </thead>\n",
       "  <tbody>\n",
       "    <tr>\n",
       "      <th>0</th>\n",
       "      <td>0</td>\n",
       "      <td>112</td>\n",
       "      <td>1.08</td>\n",
       "      <td>-189</td>\n",
       "      <td>0.52</td>\n",
       "      <td>3.0</td>\n",
       "      <td>10.0</td>\n",
       "      <td>18.0</td>\n",
       "      <td>14.0</td>\n",
       "      <td>8.0</td>\n",
       "      <td>...</td>\n",
       "      <td>2.7548</td>\n",
       "      <td>2.0417</td>\n",
       "      <td>2.3436</td>\n",
       "      <td>3.4883</td>\n",
       "      <td>4.6446</td>\n",
       "      <td>5.8815</td>\n",
       "      <td>7.1433</td>\n",
       "      <td>8.5078</td>\n",
       "      <td>9.9778</td>\n",
       "      <td>11.0609</td>\n",
       "    </tr>\n",
       "    <tr>\n",
       "      <th>1</th>\n",
       "      <td>0</td>\n",
       "      <td>114</td>\n",
       "      <td>1.28</td>\n",
       "      <td>-49</td>\n",
       "      <td>1.28</td>\n",
       "      <td>7.0</td>\n",
       "      <td>4.0</td>\n",
       "      <td>9.0</td>\n",
       "      <td>5.0</td>\n",
       "      <td>6.0</td>\n",
       "      <td>...</td>\n",
       "      <td>2.0749</td>\n",
       "      <td>2.8914</td>\n",
       "      <td>3.7540</td>\n",
       "      <td>4.6466</td>\n",
       "      <td>5.3926</td>\n",
       "      <td>6.1797</td>\n",
       "      <td>6.9469</td>\n",
       "      <td>7.7909</td>\n",
       "      <td>8.6962</td>\n",
       "      <td>9.3757</td>\n",
       "    </tr>\n",
       "  </tbody>\n",
       "</table>\n",
       "<p>2 rows × 119 columns</p>\n",
       "</div>"
      ],
      "text/plain": [
       "   Gender  AgeM   ECV  TPP    SC  OAE1  OAE1.4  OAE2  OAE2.8  OAE4  ...  \\\n",
       "0       0   112  1.08 -189  0.52   3.0    10.0  18.0    14.0   8.0  ...   \n",
       "1       0   114  1.28  -49  1.28   7.0     4.0   9.0     5.0   6.0  ...   \n",
       "\n",
       "    f6168   f6349   f6535   f6727   f6924   f7127   f7336   f7550   f7772  \\\n",
       "0  2.7548  2.0417  2.3436  3.4883  4.6446  5.8815  7.1433  8.5078  9.9778   \n",
       "1  2.0749  2.8914  3.7540  4.6466  5.3926  6.1797  6.9469  7.7909  8.6962   \n",
       "\n",
       "     f8000  \n",
       "0  11.0609  \n",
       "1   9.3757  \n",
       "\n",
       "[2 rows x 119 columns]"
      ]
     },
     "execution_count": 5,
     "metadata": {},
     "output_type": "execute_result"
    }
   ],
   "source": [
    "y_data.head(2)"
   ]
  },
  {
   "cell_type": "code",
   "execution_count": 6,
   "id": "51784c63-8d15-493e-918a-f560c457b1d8",
   "metadata": {},
   "outputs": [
    {
     "data": {
      "text/html": [
       "<div>\n",
       "<style scoped>\n",
       "    .dataframe tbody tr th:only-of-type {\n",
       "        vertical-align: middle;\n",
       "    }\n",
       "\n",
       "    .dataframe tbody tr th {\n",
       "        vertical-align: top;\n",
       "    }\n",
       "\n",
       "    .dataframe thead th {\n",
       "        text-align: right;\n",
       "    }\n",
       "</style>\n",
       "<table border=\"1\" class=\"dataframe\">\n",
       "  <thead>\n",
       "    <tr style=\"text-align: right;\">\n",
       "      <th></th>\n",
       "      <th>Gender</th>\n",
       "      <th>AgeM</th>\n",
       "      <th>ECV</th>\n",
       "      <th>TPP</th>\n",
       "      <th>SC</th>\n",
       "      <th>OAE1</th>\n",
       "      <th>OAE1.4</th>\n",
       "      <th>OAE2</th>\n",
       "      <th>OAE2.8</th>\n",
       "      <th>OAE4</th>\n",
       "      <th>...</th>\n",
       "      <th>f6168</th>\n",
       "      <th>f6349</th>\n",
       "      <th>f6535</th>\n",
       "      <th>f6727</th>\n",
       "      <th>f6924</th>\n",
       "      <th>f7127</th>\n",
       "      <th>f7336</th>\n",
       "      <th>f7550</th>\n",
       "      <th>f7772</th>\n",
       "      <th>f8000</th>\n",
       "    </tr>\n",
       "  </thead>\n",
       "  <tbody>\n",
       "    <tr>\n",
       "      <th>0</th>\n",
       "      <td>0</td>\n",
       "      <td>112</td>\n",
       "      <td>1.08</td>\n",
       "      <td>-189</td>\n",
       "      <td>0.52</td>\n",
       "      <td>3.0</td>\n",
       "      <td>10.0</td>\n",
       "      <td>18.0</td>\n",
       "      <td>14.0</td>\n",
       "      <td>8.0</td>\n",
       "      <td>...</td>\n",
       "      <td>-31.4989</td>\n",
       "      <td>1.7249</td>\n",
       "      <td>42.2983</td>\n",
       "      <td>61.3063</td>\n",
       "      <td>69.5409</td>\n",
       "      <td>75.6207</td>\n",
       "      <td>78.7186</td>\n",
       "      <td>81.2609</td>\n",
       "      <td>82.5683</td>\n",
       "      <td>83.6919</td>\n",
       "    </tr>\n",
       "    <tr>\n",
       "      <th>1</th>\n",
       "      <td>0</td>\n",
       "      <td>114</td>\n",
       "      <td>1.28</td>\n",
       "      <td>-49</td>\n",
       "      <td>1.28</td>\n",
       "      <td>7.0</td>\n",
       "      <td>4.0</td>\n",
       "      <td>9.0</td>\n",
       "      <td>5.0</td>\n",
       "      <td>6.0</td>\n",
       "      <td>...</td>\n",
       "      <td>63.0352</td>\n",
       "      <td>70.9697</td>\n",
       "      <td>75.9390</td>\n",
       "      <td>77.5764</td>\n",
       "      <td>78.5428</td>\n",
       "      <td>80.4686</td>\n",
       "      <td>81.4860</td>\n",
       "      <td>82.9247</td>\n",
       "      <td>83.6925</td>\n",
       "      <td>84.7525</td>\n",
       "    </tr>\n",
       "  </tbody>\n",
       "</table>\n",
       "<p>2 rows × 119 columns</p>\n",
       "</div>"
      ],
      "text/plain": [
       "   Gender  AgeM   ECV  TPP    SC  OAE1  OAE1.4  OAE2  OAE2.8  OAE4  ...  \\\n",
       "0       0   112  1.08 -189  0.52   3.0    10.0  18.0    14.0   8.0  ...   \n",
       "1       0   114  1.28  -49  1.28   7.0     4.0   9.0     5.0   6.0  ...   \n",
       "\n",
       "     f6168    f6349    f6535    f6727    f6924    f7127    f7336    f7550  \\\n",
       "0 -31.4989   1.7249  42.2983  61.3063  69.5409  75.6207  78.7186  81.2609   \n",
       "1  63.0352  70.9697  75.9390  77.5764  78.5428  80.4686  81.4860  82.9247   \n",
       "\n",
       "     f7772    f8000  \n",
       "0  82.5683  83.6919  \n",
       "1  83.6925  84.7525  \n",
       "\n",
       "[2 rows x 119 columns]"
      ]
     },
     "execution_count": 6,
     "metadata": {},
     "output_type": "execute_result"
    }
   ],
   "source": [
    "p_data.head(2)"
   ]
  },
  {
   "cell_type": "markdown",
   "id": "d6c8cd4d-645e-412a-9fb7-a58c694ce128",
   "metadata": {},
   "source": [
    "# Rename Frequency Columns for merge"
   ]
  },
  {
   "cell_type": "code",
   "execution_count": 7,
   "id": "203b77c5-e549-4239-84fd-a712b639b641",
   "metadata": {},
   "outputs": [],
   "source": [
    "frequencies = a_data.filter(regex = r'f[0-9]*').columns\n",
    "nonf_vars = a_data.drop(columns = frequencies.union([ y ])).columns\n",
    "\n",
    "def rename_mapping(columns, prefix):\n",
    "    mapping = { }\n",
    "    for c in columns:\n",
    "        mapping[ c ] = prefix + c[ 1 : ]\n",
    "    return mapping\n",
    "\n",
    "a_data = a_data.rename(columns = rename_mapping(frequencies, 'fa'))\n",
    "y_data = y_data.rename(columns = rename_mapping(frequencies, 'fy'))\n",
    "p_data = p_data.rename(columns = rename_mapping(frequencies, 'fp'))"
   ]
  },
  {
   "cell_type": "markdown",
   "id": "56f806a2",
   "metadata": {},
   "source": [
    "# Merge"
   ]
  },
  {
   "cell_type": "code",
   "execution_count": 8,
   "id": "ba22300d-c7d3-4993-aac0-0961a82cac2f",
   "metadata": {},
   "outputs": [],
   "source": [
    "apy_data = a_data.merge(right = y_data).merge(right = p_data)"
   ]
  },
  {
   "cell_type": "code",
   "execution_count": 9,
   "id": "48ed6020",
   "metadata": {},
   "outputs": [
    {
     "data": {
      "text/html": [
       "<div>\n",
       "<style scoped>\n",
       "    .dataframe tbody tr th:only-of-type {\n",
       "        vertical-align: middle;\n",
       "    }\n",
       "\n",
       "    .dataframe tbody tr th {\n",
       "        vertical-align: top;\n",
       "    }\n",
       "\n",
       "    .dataframe thead th {\n",
       "        text-align: right;\n",
       "    }\n",
       "</style>\n",
       "<table border=\"1\" class=\"dataframe\">\n",
       "  <thead>\n",
       "    <tr style=\"text-align: right;\">\n",
       "      <th></th>\n",
       "      <th>Gender</th>\n",
       "      <th>AgeM</th>\n",
       "      <th>ECV</th>\n",
       "      <th>TPP</th>\n",
       "      <th>SC</th>\n",
       "      <th>OAE1</th>\n",
       "      <th>OAE1.4</th>\n",
       "      <th>OAE2</th>\n",
       "      <th>OAE2.8</th>\n",
       "      <th>OAE4</th>\n",
       "      <th>...</th>\n",
       "      <th>fp6168</th>\n",
       "      <th>fp6349</th>\n",
       "      <th>fp6535</th>\n",
       "      <th>fp6727</th>\n",
       "      <th>fp6924</th>\n",
       "      <th>fp7127</th>\n",
       "      <th>fp7336</th>\n",
       "      <th>fp7550</th>\n",
       "      <th>fp7772</th>\n",
       "      <th>fp8000</th>\n",
       "    </tr>\n",
       "  </thead>\n",
       "  <tbody>\n",
       "    <tr>\n",
       "      <th>0</th>\n",
       "      <td>0</td>\n",
       "      <td>112</td>\n",
       "      <td>1.08</td>\n",
       "      <td>-189</td>\n",
       "      <td>0.52</td>\n",
       "      <td>3.0</td>\n",
       "      <td>10.0</td>\n",
       "      <td>18.0</td>\n",
       "      <td>14.0</td>\n",
       "      <td>8.0</td>\n",
       "      <td>...</td>\n",
       "      <td>-31.4989</td>\n",
       "      <td>1.7249</td>\n",
       "      <td>42.2983</td>\n",
       "      <td>61.3063</td>\n",
       "      <td>69.5409</td>\n",
       "      <td>75.6207</td>\n",
       "      <td>78.7186</td>\n",
       "      <td>81.2609</td>\n",
       "      <td>82.5683</td>\n",
       "      <td>83.6919</td>\n",
       "    </tr>\n",
       "    <tr>\n",
       "      <th>1</th>\n",
       "      <td>0</td>\n",
       "      <td>114</td>\n",
       "      <td>1.28</td>\n",
       "      <td>-49</td>\n",
       "      <td>1.28</td>\n",
       "      <td>7.0</td>\n",
       "      <td>4.0</td>\n",
       "      <td>9.0</td>\n",
       "      <td>5.0</td>\n",
       "      <td>6.0</td>\n",
       "      <td>...</td>\n",
       "      <td>63.0352</td>\n",
       "      <td>70.9697</td>\n",
       "      <td>75.9390</td>\n",
       "      <td>77.5764</td>\n",
       "      <td>78.5428</td>\n",
       "      <td>80.4686</td>\n",
       "      <td>81.4860</td>\n",
       "      <td>82.9247</td>\n",
       "      <td>83.6925</td>\n",
       "      <td>84.7525</td>\n",
       "    </tr>\n",
       "    <tr>\n",
       "      <th>2</th>\n",
       "      <td>1</td>\n",
       "      <td>118</td>\n",
       "      <td>1.26</td>\n",
       "      <td>-27</td>\n",
       "      <td>0.87</td>\n",
       "      <td>9.0</td>\n",
       "      <td>12.0</td>\n",
       "      <td>8.0</td>\n",
       "      <td>12.0</td>\n",
       "      <td>16.0</td>\n",
       "      <td>...</td>\n",
       "      <td>32.6836</td>\n",
       "      <td>54.5075</td>\n",
       "      <td>66.1629</td>\n",
       "      <td>71.5143</td>\n",
       "      <td>74.2298</td>\n",
       "      <td>76.5667</td>\n",
       "      <td>77.5448</td>\n",
       "      <td>78.8801</td>\n",
       "      <td>79.7010</td>\n",
       "      <td>80.3392</td>\n",
       "    </tr>\n",
       "    <tr>\n",
       "      <th>3</th>\n",
       "      <td>0</td>\n",
       "      <td>119</td>\n",
       "      <td>0.64</td>\n",
       "      <td>-8</td>\n",
       "      <td>0.60</td>\n",
       "      <td>13.0</td>\n",
       "      <td>9.0</td>\n",
       "      <td>13.0</td>\n",
       "      <td>11.0</td>\n",
       "      <td>12.0</td>\n",
       "      <td>...</td>\n",
       "      <td>89.8718</td>\n",
       "      <td>89.7326</td>\n",
       "      <td>89.9112</td>\n",
       "      <td>90.1791</td>\n",
       "      <td>89.7326</td>\n",
       "      <td>89.4200</td>\n",
       "      <td>88.9014</td>\n",
       "      <td>88.9160</td>\n",
       "      <td>88.9497</td>\n",
       "      <td>89.3451</td>\n",
       "    </tr>\n",
       "    <tr>\n",
       "      <th>4</th>\n",
       "      <td>0</td>\n",
       "      <td>95</td>\n",
       "      <td>0.92</td>\n",
       "      <td>-17</td>\n",
       "      <td>1.65</td>\n",
       "      <td>7.0</td>\n",
       "      <td>0.0</td>\n",
       "      <td>2.0</td>\n",
       "      <td>12.0</td>\n",
       "      <td>6.0</td>\n",
       "      <td>...</td>\n",
       "      <td>-45.0834</td>\n",
       "      <td>-58.0213</td>\n",
       "      <td>-65.8774</td>\n",
       "      <td>-66.1527</td>\n",
       "      <td>-69.3900</td>\n",
       "      <td>-72.9095</td>\n",
       "      <td>-73.4891</td>\n",
       "      <td>-70.6355</td>\n",
       "      <td>-68.9189</td>\n",
       "      <td>-72.0742</td>\n",
       "    </tr>\n",
       "    <tr>\n",
       "      <th>...</th>\n",
       "      <td>...</td>\n",
       "      <td>...</td>\n",
       "      <td>...</td>\n",
       "      <td>...</td>\n",
       "      <td>...</td>\n",
       "      <td>...</td>\n",
       "      <td>...</td>\n",
       "      <td>...</td>\n",
       "      <td>...</td>\n",
       "      <td>...</td>\n",
       "      <td>...</td>\n",
       "      <td>...</td>\n",
       "      <td>...</td>\n",
       "      <td>...</td>\n",
       "      <td>...</td>\n",
       "      <td>...</td>\n",
       "      <td>...</td>\n",
       "      <td>...</td>\n",
       "      <td>...</td>\n",
       "      <td>...</td>\n",
       "      <td>...</td>\n",
       "    </tr>\n",
       "    <tr>\n",
       "      <th>234</th>\n",
       "      <td>1</td>\n",
       "      <td>104</td>\n",
       "      <td>1.18</td>\n",
       "      <td>-48</td>\n",
       "      <td>1.07</td>\n",
       "      <td>10.3</td>\n",
       "      <td>18.6</td>\n",
       "      <td>12.0</td>\n",
       "      <td>0.5</td>\n",
       "      <td>3.7</td>\n",
       "      <td>...</td>\n",
       "      <td>-69.5092</td>\n",
       "      <td>-69.3808</td>\n",
       "      <td>-68.3594</td>\n",
       "      <td>-61.8369</td>\n",
       "      <td>-50.1392</td>\n",
       "      <td>-10.3570</td>\n",
       "      <td>45.8455</td>\n",
       "      <td>66.8959</td>\n",
       "      <td>72.8474</td>\n",
       "      <td>76.9256</td>\n",
       "    </tr>\n",
       "    <tr>\n",
       "      <th>235</th>\n",
       "      <td>0</td>\n",
       "      <td>104</td>\n",
       "      <td>0.78</td>\n",
       "      <td>-17</td>\n",
       "      <td>0.77</td>\n",
       "      <td>13.2</td>\n",
       "      <td>23.5</td>\n",
       "      <td>17.3</td>\n",
       "      <td>14.3</td>\n",
       "      <td>6.7</td>\n",
       "      <td>...</td>\n",
       "      <td>-68.2040</td>\n",
       "      <td>-69.0358</td>\n",
       "      <td>-69.7723</td>\n",
       "      <td>-68.9848</td>\n",
       "      <td>-69.3483</td>\n",
       "      <td>-67.7985</td>\n",
       "      <td>-63.6307</td>\n",
       "      <td>-49.7504</td>\n",
       "      <td>-32.4713</td>\n",
       "      <td>-3.1019</td>\n",
       "    </tr>\n",
       "    <tr>\n",
       "      <th>236</th>\n",
       "      <td>1</td>\n",
       "      <td>106</td>\n",
       "      <td>0.90</td>\n",
       "      <td>2</td>\n",
       "      <td>1.02</td>\n",
       "      <td>5.3</td>\n",
       "      <td>11.0</td>\n",
       "      <td>15.3</td>\n",
       "      <td>14.6</td>\n",
       "      <td>11.5</td>\n",
       "      <td>...</td>\n",
       "      <td>-61.0192</td>\n",
       "      <td>-63.7108</td>\n",
       "      <td>-65.5085</td>\n",
       "      <td>-64.8121</td>\n",
       "      <td>-64.5876</td>\n",
       "      <td>-62.8492</td>\n",
       "      <td>-58.5706</td>\n",
       "      <td>-45.3133</td>\n",
       "      <td>-31.3293</td>\n",
       "      <td>-8.7793</td>\n",
       "    </tr>\n",
       "    <tr>\n",
       "      <th>237</th>\n",
       "      <td>1</td>\n",
       "      <td>99</td>\n",
       "      <td>0.76</td>\n",
       "      <td>-173</td>\n",
       "      <td>0.15</td>\n",
       "      <td>-3.6</td>\n",
       "      <td>-0.9</td>\n",
       "      <td>-2.4</td>\n",
       "      <td>3.0</td>\n",
       "      <td>3.0</td>\n",
       "      <td>...</td>\n",
       "      <td>-51.9183</td>\n",
       "      <td>-45.2366</td>\n",
       "      <td>-27.6504</td>\n",
       "      <td>9.6013</td>\n",
       "      <td>51.8075</td>\n",
       "      <td>71.5094</td>\n",
       "      <td>80.2209</td>\n",
       "      <td>85.2080</td>\n",
       "      <td>87.2291</td>\n",
       "      <td>89.9198</td>\n",
       "    </tr>\n",
       "    <tr>\n",
       "      <th>238</th>\n",
       "      <td>1</td>\n",
       "      <td>118</td>\n",
       "      <td>0.66</td>\n",
       "      <td>-122</td>\n",
       "      <td>1.18</td>\n",
       "      <td>8.3</td>\n",
       "      <td>9.9</td>\n",
       "      <td>16.6</td>\n",
       "      <td>15.7</td>\n",
       "      <td>10.1</td>\n",
       "      <td>...</td>\n",
       "      <td>-57.9295</td>\n",
       "      <td>-61.9099</td>\n",
       "      <td>-64.8635</td>\n",
       "      <td>-65.5755</td>\n",
       "      <td>-66.8497</td>\n",
       "      <td>-67.2780</td>\n",
       "      <td>-67.4789</td>\n",
       "      <td>-63.5629</td>\n",
       "      <td>-63.6722</td>\n",
       "      <td>-61.8611</td>\n",
       "    </tr>\n",
       "  </tbody>\n",
       "</table>\n",
       "<p>239 rows × 334 columns</p>\n",
       "</div>"
      ],
      "text/plain": [
       "     Gender  AgeM   ECV  TPP    SC  OAE1  OAE1.4  OAE2  OAE2.8  OAE4  ...  \\\n",
       "0         0   112  1.08 -189  0.52   3.0    10.0  18.0    14.0   8.0  ...   \n",
       "1         0   114  1.28  -49  1.28   7.0     4.0   9.0     5.0   6.0  ...   \n",
       "2         1   118  1.26  -27  0.87   9.0    12.0   8.0    12.0  16.0  ...   \n",
       "3         0   119  0.64   -8  0.60  13.0     9.0  13.0    11.0  12.0  ...   \n",
       "4         0    95  0.92  -17  1.65   7.0     0.0   2.0    12.0   6.0  ...   \n",
       "..      ...   ...   ...  ...   ...   ...     ...   ...     ...   ...  ...   \n",
       "234       1   104  1.18  -48  1.07  10.3    18.6  12.0     0.5   3.7  ...   \n",
       "235       0   104  0.78  -17  0.77  13.2    23.5  17.3    14.3   6.7  ...   \n",
       "236       1   106  0.90    2  1.02   5.3    11.0  15.3    14.6  11.5  ...   \n",
       "237       1    99  0.76 -173  0.15  -3.6    -0.9  -2.4     3.0   3.0  ...   \n",
       "238       1   118  0.66 -122  1.18   8.3     9.9  16.6    15.7  10.1  ...   \n",
       "\n",
       "      fp6168   fp6349   fp6535   fp6727   fp6924   fp7127   fp7336   fp7550  \\\n",
       "0   -31.4989   1.7249  42.2983  61.3063  69.5409  75.6207  78.7186  81.2609   \n",
       "1    63.0352  70.9697  75.9390  77.5764  78.5428  80.4686  81.4860  82.9247   \n",
       "2    32.6836  54.5075  66.1629  71.5143  74.2298  76.5667  77.5448  78.8801   \n",
       "3    89.8718  89.7326  89.9112  90.1791  89.7326  89.4200  88.9014  88.9160   \n",
       "4   -45.0834 -58.0213 -65.8774 -66.1527 -69.3900 -72.9095 -73.4891 -70.6355   \n",
       "..       ...      ...      ...      ...      ...      ...      ...      ...   \n",
       "234 -69.5092 -69.3808 -68.3594 -61.8369 -50.1392 -10.3570  45.8455  66.8959   \n",
       "235 -68.2040 -69.0358 -69.7723 -68.9848 -69.3483 -67.7985 -63.6307 -49.7504   \n",
       "236 -61.0192 -63.7108 -65.5085 -64.8121 -64.5876 -62.8492 -58.5706 -45.3133   \n",
       "237 -51.9183 -45.2366 -27.6504   9.6013  51.8075  71.5094  80.2209  85.2080   \n",
       "238 -57.9295 -61.9099 -64.8635 -65.5755 -66.8497 -67.2780 -67.4789 -63.5629   \n",
       "\n",
       "      fp7772   fp8000  \n",
       "0    82.5683  83.6919  \n",
       "1    83.6925  84.7525  \n",
       "2    79.7010  80.3392  \n",
       "3    88.9497  89.3451  \n",
       "4   -68.9189 -72.0742  \n",
       "..       ...      ...  \n",
       "234  72.8474  76.9256  \n",
       "235 -32.4713  -3.1019  \n",
       "236 -31.3293  -8.7793  \n",
       "237  87.2291  89.9198  \n",
       "238 -63.6722 -61.8611  \n",
       "\n",
       "[239 rows x 334 columns]"
      ]
     },
     "execution_count": 9,
     "metadata": {},
     "output_type": "execute_result"
    }
   ],
   "source": [
    "apy_data"
   ]
  },
  {
   "cell_type": "markdown",
   "id": "b3bc62a6-1f49-4a46-92d6-1012371f2c1d",
   "metadata": {},
   "source": [
    "# 80 : 20 Train Test Split"
   ]
  },
  {
   "cell_type": "code",
   "execution_count": 10,
   "id": "1ba9bbb4-ef2f-4b7e-b221-ebd78ab1c456",
   "metadata": {},
   "outputs": [],
   "source": [
    "X_train, X_test, y_train, y_test = train_test_split(\n",
    "    apy_data.drop(columns = y), # X\n",
    "    apy_data[ y ], # y\n",
    "    test_size = 0.2, \n",
    "    random_state = seed\n",
    ")"
   ]
  },
  {
   "cell_type": "code",
   "execution_count": 11,
   "id": "1ea9ea4a",
   "metadata": {},
   "outputs": [
    {
     "data": {
      "text/plain": [
       "<AxesSubplot:>"
      ]
     },
     "execution_count": 11,
     "metadata": {},
     "output_type": "execute_result"
    },
    {
     "data": {
      "image/png": "[encoded data removed]",
      "text/plain": [
       "<Figure size 432x288 with 1 Axes>"
      ]
     },
     "metadata": {
      "needs_background": "light"
     },
     "output_type": "display_data"
    }
   ],
   "source": [
    "y_train.value_counts().plot(kind = 'bar')"
   ]
  },
  {
   "cell_type": "code",
   "execution_count": 12,
   "id": "c33c6685",
   "metadata": {},
   "outputs": [],
   "source": [
    "# save\n",
    "root = '00 - Dataset/03 - Sampling Splits/'\n",
    "path = root + '00 - Original/'\n",
    "\n",
    "X_train.to_csv(path + 'X_train.csv', index = False)\n",
    "y_train.to_csv(path + 'y_train.csv', index = False)\n",
    "\n",
    "X_test.to_csv(path + 'X_test.csv', index = False)\n",
    "y_test.to_csv(path + 'y_test.csv', index = False)"
   ]
  },
  {
   "cell_type": "markdown",
   "id": "eb9c941e",
   "metadata": {},
   "source": [
    "# EditedNearestNeighbours Under-sampling"
   ]
  },
  {
   "cell_type": "code",
   "execution_count": 13,
   "id": "791f5ef4",
   "metadata": {},
   "outputs": [],
   "source": [
    "enn = EditedNearestNeighbours(sampling_strategy = 'majority', n_neighbors = 10)\n",
    "X_enn, y_enn = enn.fit_resample(X_train, y_train)"
   ]
  },
  {
   "cell_type": "code",
   "execution_count": 14,
   "id": "e8ebbb7d",
   "metadata": {},
   "outputs": [
    {
     "data": {
      "text/plain": [
       "<AxesSubplot:>"
      ]
     },
     "execution_count": 14,
     "metadata": {},
     "output_type": "execute_result"
    },
    {
     "data": {
      "image/png": "[encoded data removed]",
      "text/plain": [
       "<Figure size 432x288 with 1 Axes>"
      ]
     },
     "metadata": {
      "needs_background": "light"
     },
     "output_type": "display_data"
    }
   ],
   "source": [
    "y_enn.value_counts().plot(kind = 'bar')"
   ]
  },
  {
   "cell_type": "code",
   "execution_count": 15,
   "id": "9dbf2dfd",
   "metadata": {},
   "outputs": [],
   "source": [
    "# save\n",
    "path = root + '01 - ENN/'\n",
    "\n",
    "X_enn.to_csv(path + 'X_train.csv', index = False)\n",
    "y_enn.to_csv(path + 'y_train.csv', index = False)\n",
    "\n",
    "X_test.to_csv(path + 'X_test.csv', index = False)\n",
    "y_test.to_csv(path + 'y_test.csv', index = False)"
   ]
  },
  {
   "cell_type": "markdown",
   "id": "0af5af12",
   "metadata": {},
   "source": [
    "# SMOTE Over-sampling"
   ]
  },
  {
   "cell_type": "code",
   "execution_count": 16,
   "id": "f98fe13e",
   "metadata": {},
   "outputs": [],
   "source": [
    "smote = SMOTE(sampling_strategy = 'minority', random_state = seed)\n",
    "X_sm, y_sm = smote.fit_resample(X_train, y_train)"
   ]
  },
  {
   "cell_type": "code",
   "execution_count": 17,
   "id": "82c4e468",
   "metadata": {},
   "outputs": [
    {
     "data": {
      "text/plain": [
       "<AxesSubplot:>"
      ]
     },
     "execution_count": 17,
     "metadata": {},
     "output_type": "execute_result"
    },
    {
     "data": {
      "image/png": "[encoded data removed]",
      "text/plain": [
       "<Figure size 432x288 with 1 Axes>"
      ]
     },
     "metadata": {
      "needs_background": "light"
     },
     "output_type": "display_data"
    }
   ],
   "source": [
    "y_sm.value_counts().plot(kind = 'bar')"
   ]
  },
  {
   "cell_type": "code",
   "execution_count": 18,
   "id": "8b30fe00",
   "metadata": {},
   "outputs": [],
   "source": [
    "# save\n",
    "path = root + '02 - SMOTE/'\n",
    "\n",
    "X_sm.to_csv(path + 'X_train.csv', index = False)\n",
    "y_sm.to_csv(path + 'y_train.csv', index = False)\n",
    "\n",
    "X_test.to_csv(path + 'X_test.csv', index = False)\n",
    "y_test.to_csv(path + 'y_test.csv', index = False)"
   ]
  },
  {
   "cell_type": "markdown",
   "id": "1c48bf0b",
   "metadata": {},
   "source": [
    "# SMOTEENN"
   ]
  },
  {
   "cell_type": "code",
   "execution_count": 19,
   "id": "c2b986db",
   "metadata": {},
   "outputs": [],
   "source": [
    "smt = SMOTEENN(\n",
    "    sampling_strategy = 'auto', \n",
    "    random_state = seed,\n",
    "    smote = smote,\n",
    "    enn = enn\n",
    ")\n",
    "X_smt, y_smt = smt.fit_resample(X_train, y_train)"
   ]
  },
  {
   "cell_type": "code",
   "execution_count": 20,
   "id": "ffe051b2",
   "metadata": {},
   "outputs": [
    {
     "data": {
      "text/plain": [
       "<AxesSubplot:>"
      ]
     },
     "execution_count": 20,
     "metadata": {},
     "output_type": "execute_result"
    },
    {
     "data": {
      "image/png": "[encoded data removed]",
      "text/plain": [
       "<Figure size 432x288 with 1 Axes>"
      ]
     },
     "metadata": {
      "needs_background": "light"
     },
     "output_type": "display_data"
    }
   ],
   "source": [
    "y_smt.value_counts().plot(kind = 'bar')"
   ]
  },
  {
   "cell_type": "code",
   "execution_count": 21,
   "id": "27665360",
   "metadata": {},
   "outputs": [],
   "source": [
    "# save\n",
    "path = root + '03 - SMOTEENN/'\n",
    "\n",
    "X_smt.to_csv(path + 'X_train.csv', index = False)\n",
    "y_smt.to_csv(path + 'y_train.csv', index = False)\n",
    "\n",
    "X_test.to_csv(path + 'X_test.csv', index = False)\n",
    "y_test.to_csv(path + 'y_test.csv', index = False)"
   ]
  }
 ],
 "metadata": {
  "kernelspec": {
   "display_name": "Python 3 (ipykernel)",
   "language": "python",
   "name": "python3"
  },
  "language_info": {
   "codemirror_mode": {
    "name": "ipython",
    "version": 3
   },
   "file_extension": ".py",
   "mimetype": "text/x-python",
   "name": "python",
   "nbconvert_exporter": "python",
   "pygments_lexer": "ipython3",
   "version": "3.8.13"
  }
 },
 "nbformat": 4,
 "nbformat_minor": 5
}
