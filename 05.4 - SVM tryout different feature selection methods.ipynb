{
 "cells": [
  {
   "cell_type": "markdown",
   "id": "abf6086a",
   "metadata": {},
   "source": [
    "# I.  Libraries"
   ]
  },
  {
   "cell_type": "code",
   "execution_count": 1,
   "id": "8d61caa4",
   "metadata": {},
   "outputs": [],
   "source": [
    "import pandas as pd\n",
    "import matplotlib.pyplot as plt\n",
    "from sklearn.svm import LinearSVC\n",
    "from sklearn.pipeline import Pipeline\n",
    "from sklearn.preprocessing import StandardScaler\n",
    "from sklearn.model_selection import GridSearchCV\n",
    "from sklearn.linear_model import LogisticRegression\n",
    "from sklearn.metrics import recall_score, classification_report\n",
    "from sklearn.feature_selection import RFECV, SequentialFeatureSelector, SelectFromModel"
   ]
  },
  {
   "cell_type": "markdown",
   "id": "ce32a6b1",
   "metadata": {},
   "source": [
    "# II. Defaults"
   ]
  },
  {
   "cell_type": "code",
   "execution_count": 2,
   "id": "6ad2a167",
   "metadata": {},
   "outputs": [],
   "source": [
    "seed = 12 # 12 ears\n",
    "y = 'OverallPoF' # target\n",
    "\n",
    "# cv parameters\n",
    "cv_params = {\n",
    "    'cv': 10, # k-fold\n",
    "    'n_jobs': -1, # use all cpu cores\n",
    "    'scoring': 'f1_macro',\n",
    "}\n",
    "\n",
    "# classifier parameters\n",
    "base_params = {\n",
    "    'dual': False,\n",
    "    'random_state': seed,\n",
    "    'max_iter': 23220451 * 12,\n",
    "    'class_weight': 'balanced'\n",
    "}\n",
    "hyper_params = {\n",
    "    'penalty': [ 'l1', 'l2' ],\n",
    "    'C': [ 0.01, 0.1, 1, 10, 100 ]\n",
    "}\n",
    "\n",
    "# sample choices\n",
    "sample = '00 - Dataset/03 - Sampling Splits/00 - Original/'\n",
    "# sample = '00 - Dataset/03 - Sampling Splits/01 - NM2/'\n",
    "# sample = '00 - Dataset/03 - Sampling Splits/02 - SMOTE/'\n",
    "# sample = '00 - Dataset/03 - Sampling Splits/03 - SMOTEENN/'\n",
    "# sample = '00 - Dataset/03 - Sampling Splits/04 - SMOTETomek/'"
   ]
  },
  {
   "cell_type": "markdown",
   "id": "6ba6fcda",
   "metadata": {},
   "source": [
    "# III. Dataset"
   ]
  },
  {
   "cell_type": "markdown",
   "id": "05c52f7d",
   "metadata": {},
   "source": [
    "## Import"
   ]
  },
  {
   "cell_type": "code",
   "execution_count": 3,
   "id": "7da7c372",
   "metadata": {},
   "outputs": [],
   "source": [
    "X_train = pd.read_csv(sample + 'X_train.csv')\n",
    "y_train = pd.read_csv(sample + 'y_train.csv')\n",
    "X_val = pd.read_csv(sample + 'X_val.csv')\n",
    "y_val = pd.read_csv(sample + 'y_val.csv')\n",
    "X_test = pd.read_csv(sample + 'X_test.csv')\n",
    "y_test = pd.read_csv(sample + 'y_test.csv')"
   ]
  },
  {
   "cell_type": "markdown",
   "id": "b4594dd7",
   "metadata": {},
   "source": [
    "## Absorbance Only"
   ]
  },
  {
   "cell_type": "code",
   "execution_count": 4,
   "id": "62843056",
   "metadata": {},
   "outputs": [],
   "source": [
    "X_train = X_train.filter(regex = r'fa[0-9]*')\n",
    "X_val = X_val.filter(regex = r'fa[0-9]*')\n",
    "X_test = X_test.filter(regex = r'fa[0-9]*')"
   ]
  },
  {
   "cell_type": "markdown",
   "id": "c3949708",
   "metadata": {},
   "source": [
    "## Scaling"
   ]
  },
  {
   "cell_type": "code",
   "execution_count": 5,
   "id": "6546221a",
   "metadata": {},
   "outputs": [],
   "source": [
    "scaler = StandardScaler()\n",
    "X_train = pd.DataFrame(scaler.fit_transform(X_train), columns = X_train.columns)\n",
    "X_val = pd.DataFrame(scaler.transform(X_val), columns = X_val.columns)\n",
    "X_test = pd.DataFrame(scaler.transform(X_test), columns = X_test.columns)"
   ]
  },
  {
   "cell_type": "markdown",
   "id": "6899ab7d",
   "metadata": {},
   "source": [
    "# IV. Functions"
   ]
  },
  {
   "cell_type": "code",
   "execution_count": 6,
   "id": "b26a61ce",
   "metadata": {},
   "outputs": [],
   "source": [
    "def evaluate_pipeline(pipeline, tune_params, X_train = X_train, X_val = X_val, return_n = True):\n",
    "    best_pipe = GridSearchCV(\n",
    "        **cv_params,\n",
    "        estimator = pipeline,\n",
    "        param_grid = tune_params,\n",
    "    ).fit(X_train, y_train[ y ]).best_estimator_\n",
    "    \n",
    "    f_selector = best_pipe[ 'f_selector' ]\n",
    "    classifier = best_pipe[ 'classifier' ]\n",
    "    \n",
    "    columns = X_train.columns[ f_selector.get_support() ]\n",
    "    print(f'\\nSelected number of features:')\n",
    "    print(len(columns))\n",
    "    print(f'\\nThe selected features:')\n",
    "    print(columns)\n",
    "    \n",
    "    X_train = f_selector.transform(X_train)\n",
    "    X_val = f_selector.transform(X_val)\n",
    "    \n",
    "    print(f'\\nTraining Recall:', recall_score(\n",
    "        y_true = y_train, \n",
    "        average = 'macro',\n",
    "        y_pred = classifier.predict(X_train)\n",
    "    ))\n",
    "    print(f'\\nValidation Recall:', recall_score(\n",
    "        y_true = y_val, \n",
    "        average = 'macro',\n",
    "        y_pred = classifier.predict(X_val)\n",
    "    ))\n",
    "    \n",
    "    return len(columns)"
   ]
  },
  {
   "cell_type": "markdown",
   "id": "92cdeb8b",
   "metadata": {},
   "source": [
    "# V. Feature Selection"
   ]
  },
  {
   "cell_type": "markdown",
   "id": "685d4fb7",
   "metadata": {},
   "source": [
    "## SelectFromModel"
   ]
  },
  {
   "cell_type": "code",
   "execution_count": 7,
   "id": "01a9c278",
   "metadata": {
    "scrolled": true
   },
   "outputs": [],
   "source": [
    "sfm_pipe = Pipeline([\n",
    "    ('f_selector', SelectFromModel(estimator = LinearSVC(**base_params, penalty = 'l1'))),\n",
    "    ('classifier', LinearSVC(**base_params))\n",
    "])"
   ]
  },
  {
   "cell_type": "code",
   "execution_count": 8,
   "id": "bf1e67f4",
   "metadata": {},
   "outputs": [],
   "source": [
    "# sfm_pipe.get_params()"
   ]
  },
  {
   "cell_type": "code",
   "execution_count": 9,
   "id": "ee44cba8",
   "metadata": {},
   "outputs": [
    {
     "name": "stdout",
     "output_type": "stream",
     "text": [
      "\n",
      "Selected number of features:\n",
      "24\n",
      "\n",
      "The selected features:\n",
      "Index(['fa280', 'fa363', 'fa408', 'fa727', 'fa771', 'fa943', 'fa1296',\n",
      "       'fa1542', 'fa1781', 'fa1834', 'fa2310', 'fa2911', 'fa2996', 'fa3174',\n",
      "       'fa3363', 'fa3775', 'fa4000', 'fa4237', 'fa4756', 'fa4896', 'fa5495',\n",
      "       'fa5656', 'fa5993', 'fa7550'],\n",
      "      dtype='object')\n",
      "\n",
      "Training Recall: 0.9272727272727272\n",
      "\n",
      "Validation Recall: 0.8611111111111112\n"
     ]
    }
   ],
   "source": [
    "sfm_n_features = evaluate_pipeline(\n",
    "    pipeline = sfm_pipe,\n",
    "    tune_params = {\n",
    "        # 'f_selector__estimator__C': hyper_params[ 'C' ],\n",
    "        'classifier__C': hyper_params[ 'C' ],\n",
    "        'classifier__penalty': hyper_params[ 'penalty' ]\n",
    "    }\n",
    ")"
   ]
  },
  {
   "cell_type": "markdown",
   "id": "e7c8af91",
   "metadata": {},
   "source": [
    "## RFE"
   ]
  },
  {
   "cell_type": "code",
   "execution_count": 10,
   "id": "bc599e3f",
   "metadata": {
    "scrolled": true
   },
   "outputs": [],
   "source": [
    "rfe_pipe = Pipeline([\n",
    "    ('f_selector', RFECV(**cv_params, estimator = LinearSVC(**base_params))),\n",
    "    ('classifier', LinearSVC(**base_params))\n",
    "])"
   ]
  },
  {
   "cell_type": "code",
   "execution_count": 11,
   "id": "cac15764",
   "metadata": {},
   "outputs": [],
   "source": [
    "# rfe_pipe.get_params()"
   ]
  },
  {
   "cell_type": "code",
   "execution_count": 12,
   "id": "5db399e9",
   "metadata": {},
   "outputs": [
    {
     "name": "stderr",
     "output_type": "stream",
     "text": [
      "C:\\ProgramData\\Anaconda3\\envs\\dududev\\lib\\site-packages\\sklearn\\model_selection\\_validation.py:378: FitFailedWarning: \n",
      "26 fits failed out of a total of 100.\n",
      "The score on these train-test partitions for these parameters will be set to nan.\n",
      "If these failures are not expected, you can try to debug them by setting error_score='raise'.\n",
      "\n",
      "Below are more details about the failures:\n",
      "--------------------------------------------------------------------------------\n",
      "24 fits failed with the following error:\n",
      "Traceback (most recent call last):\n",
      "  File \"C:\\ProgramData\\Anaconda3\\envs\\dududev\\lib\\site-packages\\sklearn\\model_selection\\_validation.py\", line 686, in _fit_and_score\n",
      "    estimator.fit(X_train, y_train, **fit_params)\n",
      "  File \"C:\\ProgramData\\Anaconda3\\envs\\dududev\\lib\\site-packages\\sklearn\\pipeline.py\", line 378, in fit\n",
      "    Xt = self._fit(X, y, **fit_params_steps)\n",
      "  File \"C:\\ProgramData\\Anaconda3\\envs\\dududev\\lib\\site-packages\\sklearn\\pipeline.py\", line 336, in _fit\n",
      "    X, fitted_transformer = fit_transform_one_cached(\n",
      "  File \"C:\\ProgramData\\Anaconda3\\envs\\dududev\\lib\\site-packages\\joblib\\memory.py\", line 349, in __call__\n",
      "    return self.func(*args, **kwargs)\n",
      "  File \"C:\\ProgramData\\Anaconda3\\envs\\dududev\\lib\\site-packages\\sklearn\\pipeline.py\", line 870, in _fit_transform_one\n",
      "    res = transformer.fit_transform(X, y, **fit_params)\n",
      "  File \"C:\\ProgramData\\Anaconda3\\envs\\dududev\\lib\\site-packages\\sklearn\\base.py\", line 870, in fit_transform\n",
      "    return self.fit(X, y, **fit_params).transform(X)\n",
      "  File \"C:\\ProgramData\\Anaconda3\\envs\\dududev\\lib\\site-packages\\sklearn\\feature_selection\\_rfe.py\", line 723, in fit\n",
      "    scores = parallel(\n",
      "  File \"C:\\ProgramData\\Anaconda3\\envs\\dududev\\lib\\site-packages\\joblib\\parallel.py\", line 1056, in __call__\n",
      "    self.retrieve()\n",
      "  File \"C:\\ProgramData\\Anaconda3\\envs\\dududev\\lib\\site-packages\\joblib\\parallel.py\", line 935, in retrieve\n",
      "    self._output.extend(job.get(timeout=self.timeout))\n",
      "  File \"C:\\ProgramData\\Anaconda3\\envs\\dududev\\lib\\multiprocessing\\pool.py\", line 771, in get\n",
      "    raise self._value\n",
      "  File \"C:\\ProgramData\\Anaconda3\\envs\\dududev\\lib\\multiprocessing\\pool.py\", line 125, in worker\n",
      "    result = (True, func(*args, **kwds))\n",
      "  File \"C:\\ProgramData\\Anaconda3\\envs\\dududev\\lib\\site-packages\\joblib\\_parallel_backends.py\", line 595, in __call__\n",
      "    return self.func(*args, **kwargs)\n",
      "  File \"C:\\ProgramData\\Anaconda3\\envs\\dududev\\lib\\site-packages\\joblib\\parallel.py\", line 262, in __call__\n",
      "    return [func(*args, **kwargs)\n",
      "  File \"C:\\ProgramData\\Anaconda3\\envs\\dududev\\lib\\site-packages\\joblib\\parallel.py\", line 262, in <listcomp>\n",
      "    return [func(*args, **kwargs)\n",
      "  File \"C:\\ProgramData\\Anaconda3\\envs\\dududev\\lib\\site-packages\\sklearn\\utils\\fixes.py\", line 117, in __call__\n",
      "    return self.function(*args, **kwargs)\n",
      "  File \"C:\\ProgramData\\Anaconda3\\envs\\dududev\\lib\\site-packages\\sklearn\\feature_selection\\_rfe.py\", line 37, in _rfe_single_fit\n",
      "    return rfe._fit(\n",
      "  File \"C:\\ProgramData\\Anaconda3\\envs\\dududev\\lib\\site-packages\\sklearn\\feature_selection\\_rfe.py\", line 327, in _fit\n",
      "    self.scores_.append(step_score(self.estimator_, features))\n",
      "  File \"C:\\ProgramData\\Anaconda3\\envs\\dududev\\lib\\site-packages\\sklearn\\feature_selection\\_rfe.py\", line 40, in <lambda>\n",
      "    lambda estimator, features: _score(\n",
      "  File \"C:\\ProgramData\\Anaconda3\\envs\\dududev\\lib\\site-packages\\sklearn\\model_selection\\_validation.py\", line 767, in _score\n",
      "    scores = scorer(estimator, X_test, y_test)\n",
      "  File \"C:\\ProgramData\\Anaconda3\\envs\\dududev\\lib\\site-packages\\sklearn\\metrics\\_scorer.py\", line 219, in __call__\n",
      "    return self._score(\n",
      "  File \"C:\\ProgramData\\Anaconda3\\envs\\dududev\\lib\\site-packages\\sklearn\\metrics\\_scorer.py\", line 261, in _score\n",
      "    y_pred = method_caller(estimator, \"predict\", X)\n",
      "  File \"C:\\ProgramData\\Anaconda3\\envs\\dududev\\lib\\site-packages\\sklearn\\metrics\\_scorer.py\", line 71, in _cached_call\n",
      "    return getattr(estimator, method)(*args, **kwargs)\n",
      "  File \"C:\\ProgramData\\Anaconda3\\envs\\dududev\\lib\\site-packages\\sklearn\\linear_model\\_base.py\", line 447, in predict\n",
      "    scores = self.decision_function(X)\n",
      "  File \"C:\\ProgramData\\Anaconda3\\envs\\dududev\\lib\\site-packages\\sklearn\\linear_model\\_base.py\", line 430, in decision_function\n",
      "    scores = safe_sparse_dot(X, self.coef_.T, dense_output=True) + self.intercept_\n",
      "AttributeError: 'LinearSVC' object has no attribute 'coef_'\n",
      "\n",
      "--------------------------------------------------------------------------------\n",
      "2 fits failed with the following error:\n",
      "Traceback (most recent call last):\n",
      "  File \"C:\\ProgramData\\Anaconda3\\envs\\dududev\\lib\\site-packages\\sklearn\\model_selection\\_validation.py\", line 686, in _fit_and_score\n",
      "    estimator.fit(X_train, y_train, **fit_params)\n",
      "  File \"C:\\ProgramData\\Anaconda3\\envs\\dududev\\lib\\site-packages\\sklearn\\pipeline.py\", line 378, in fit\n",
      "    Xt = self._fit(X, y, **fit_params_steps)\n",
      "  File \"C:\\ProgramData\\Anaconda3\\envs\\dududev\\lib\\site-packages\\sklearn\\pipeline.py\", line 336, in _fit\n",
      "    X, fitted_transformer = fit_transform_one_cached(\n",
      "  File \"C:\\ProgramData\\Anaconda3\\envs\\dududev\\lib\\site-packages\\joblib\\memory.py\", line 349, in __call__\n",
      "    return self.func(*args, **kwargs)\n",
      "  File \"C:\\ProgramData\\Anaconda3\\envs\\dududev\\lib\\site-packages\\sklearn\\pipeline.py\", line 870, in _fit_transform_one\n",
      "    res = transformer.fit_transform(X, y, **fit_params)\n",
      "  File \"C:\\ProgramData\\Anaconda3\\envs\\dududev\\lib\\site-packages\\sklearn\\base.py\", line 870, in fit_transform\n",
      "    return self.fit(X, y, **fit_params).transform(X)\n",
      "  File \"C:\\ProgramData\\Anaconda3\\envs\\dududev\\lib\\site-packages\\sklearn\\feature_selection\\_rfe.py\", line 723, in fit\n",
      "    scores = parallel(\n",
      "  File \"C:\\ProgramData\\Anaconda3\\envs\\dududev\\lib\\site-packages\\joblib\\parallel.py\", line 1056, in __call__\n",
      "    self.retrieve()\n",
      "  File \"C:\\ProgramData\\Anaconda3\\envs\\dududev\\lib\\site-packages\\joblib\\parallel.py\", line 935, in retrieve\n",
      "    self._output.extend(job.get(timeout=self.timeout))\n",
      "  File \"C:\\ProgramData\\Anaconda3\\envs\\dududev\\lib\\multiprocessing\\pool.py\", line 771, in get\n",
      "    raise self._value\n",
      "  File \"C:\\ProgramData\\Anaconda3\\envs\\dududev\\lib\\multiprocessing\\pool.py\", line 125, in worker\n",
      "    result = (True, func(*args, **kwds))\n",
      "  File \"C:\\ProgramData\\Anaconda3\\envs\\dududev\\lib\\site-packages\\joblib\\_parallel_backends.py\", line 595, in __call__\n",
      "    return self.func(*args, **kwargs)\n",
      "  File \"C:\\ProgramData\\Anaconda3\\envs\\dududev\\lib\\site-packages\\joblib\\parallel.py\", line 262, in __call__\n",
      "    return [func(*args, **kwargs)\n",
      "  File \"C:\\ProgramData\\Anaconda3\\envs\\dududev\\lib\\site-packages\\joblib\\parallel.py\", line 262, in <listcomp>\n",
      "    return [func(*args, **kwargs)\n",
      "  File \"C:\\ProgramData\\Anaconda3\\envs\\dududev\\lib\\site-packages\\sklearn\\utils\\fixes.py\", line 117, in __call__\n",
      "    return self.function(*args, **kwargs)\n",
      "  File \"C:\\ProgramData\\Anaconda3\\envs\\dududev\\lib\\site-packages\\sklearn\\feature_selection\\_rfe.py\", line 37, in _rfe_single_fit\n",
      "    return rfe._fit(\n",
      "  File \"C:\\ProgramData\\Anaconda3\\envs\\dududev\\lib\\site-packages\\sklearn\\feature_selection\\_rfe.py\", line 327, in _fit\n",
      "    self.scores_.append(step_score(self.estimator_, features))\n",
      "  File \"C:\\ProgramData\\Anaconda3\\envs\\dududev\\lib\\site-packages\\sklearn\\feature_selection\\_rfe.py\", line 40, in <lambda>\n",
      "    lambda estimator, features: _score(\n",
      "  File \"C:\\ProgramData\\Anaconda3\\envs\\dududev\\lib\\site-packages\\sklearn\\model_selection\\_validation.py\", line 767, in _score\n",
      "    scores = scorer(estimator, X_test, y_test)\n",
      "  File \"C:\\ProgramData\\Anaconda3\\envs\\dududev\\lib\\site-packages\\sklearn\\metrics\\_scorer.py\", line 219, in __call__\n",
      "    return self._score(\n",
      "  File \"C:\\ProgramData\\Anaconda3\\envs\\dududev\\lib\\site-packages\\sklearn\\metrics\\_scorer.py\", line 261, in _score\n",
      "    y_pred = method_caller(estimator, \"predict\", X)\n",
      "  File \"C:\\ProgramData\\Anaconda3\\envs\\dududev\\lib\\site-packages\\sklearn\\metrics\\_scorer.py\", line 71, in _cached_call\n",
      "    return getattr(estimator, method)(*args, **kwargs)\n",
      "  File \"C:\\ProgramData\\Anaconda3\\envs\\dududev\\lib\\site-packages\\sklearn\\linear_model\\_base.py\", line 447, in predict\n",
      "    scores = self.decision_function(X)\n",
      "  File \"C:\\ProgramData\\Anaconda3\\envs\\dududev\\lib\\site-packages\\sklearn\\linear_model\\_base.py\", line 427, in decision_function\n",
      "    check_is_fitted(self)\n",
      "  File \"C:\\ProgramData\\Anaconda3\\envs\\dududev\\lib\\site-packages\\sklearn\\utils\\validation.py\", line 1345, in check_is_fitted\n",
      "    raise NotFittedError(msg % {\"name\": type(estimator).__name__})\n",
      "sklearn.exceptions.NotFittedError: This LinearSVC instance is not fitted yet. Call 'fit' with appropriate arguments before using this estimator.\n",
      "\n",
      "  warnings.warn(some_fits_failed_message, FitFailedWarning)\n",
      "C:\\ProgramData\\Anaconda3\\envs\\dududev\\lib\\site-packages\\sklearn\\model_selection\\_search.py:953: UserWarning: One or more of the test scores are non-finite: [0.51724885        nan        nan        nan        nan        nan\n",
      "        nan        nan        nan        nan]\n",
      "  warnings.warn(\n"
     ]
    },
    {
     "name": "stdout",
     "output_type": "stream",
     "text": [
      "\n",
      "Selected number of features:\n",
      "62\n",
      "\n",
      "The selected features:\n",
      "Index(['fa226', 'fa257', 'fa280', 'fa297', 'fa363', 'fa385', 'fa408', 'fa432',\n",
      "       'fa471', 'fa514', 'fa561', 'fa577', 'fa594', 'fa648', 'fa707', 'fa727',\n",
      "       'fa749', 'fa771', 'fa793', 'fa840', 'fa865', 'fa917', 'fa943', 'fa971',\n",
      "       'fa1029', 'fa1090', 'fa1122', 'fa1155', 'fa1189', 'fa1296', 'fa1334',\n",
      "       'fa1373', 'fa1498', 'fa1542', 'fa1587', 'fa1681', 'fa1731', 'fa1781',\n",
      "       'fa1834', 'fa1943', 'fa2058', 'fa2911', 'fa2996', 'fa3174', 'fa3267',\n",
      "       'fa3775', 'fa3886', 'fa4000', 'fa4117', 'fa4237', 'fa4362', 'fa4489',\n",
      "       'fa4621', 'fa4756', 'fa4896', 'fa5187', 'fa5339', 'fa5495', 'fa5656',\n",
      "       'fa5993', 'fa6168', 'fa7550'],\n",
      "      dtype='object')\n",
      "\n",
      "Training Recall: 0.7398601398601399\n",
      "\n",
      "Validation Recall: 0.8277777777777777\n"
     ]
    }
   ],
   "source": [
    "rfe_n_features = evaluate_pipeline(\n",
    "    pipeline = rfe_pipe,\n",
    "    tune_params = {\n",
    "        # 'f_selector__estimator__C': hyper_params[ 'C' ],\n",
    "        # 'f_selector__estimator__penalty': hyper_params[ 'penalty' ],\n",
    "        'classifier__C': hyper_params[ 'C' ],\n",
    "        'classifier__penalty': hyper_params[ 'penalty' ]\n",
    "    }\n",
    ")"
   ]
  },
  {
   "cell_type": "markdown",
   "id": "a6dfffbe",
   "metadata": {},
   "source": [
    "## SFS"
   ]
  },
  {
   "cell_type": "code",
   "execution_count": 13,
   "id": "f071690c",
   "metadata": {
    "scrolled": true
   },
   "outputs": [],
   "source": [
    "sfs_pipe = Pipeline([\n",
    "    ('f_selector', SequentialFeatureSelector(**cv_params, estimator = LinearSVC(**base_params))),\n",
    "    ('classifier', LinearSVC(**base_params))\n",
    "])"
   ]
  },
  {
   "cell_type": "code",
   "execution_count": 14,
   "id": "e451aac9",
   "metadata": {},
   "outputs": [],
   "source": [
    "# sfs_pipe.get_params()"
   ]
  },
  {
   "cell_type": "code",
   "execution_count": 15,
   "id": "e57225af",
   "metadata": {},
   "outputs": [
    {
     "name": "stdout",
     "output_type": "stream",
     "text": [
      "\n",
      "Selected number of features:\n",
      "24\n",
      "\n",
      "The selected features:\n",
      "Index(['fa226', 'fa667', 'fa686', 'fa707', 'fa971', 'fa1000', 'fa1090',\n",
      "       'fa1122', 'fa1155', 'fa1224', 'fa1633', 'fa1681', 'fa1731', 'fa1887',\n",
      "       'fa1943', 'fa2378', 'fa2593', 'fa2669', 'fa2747', 'fa2828', 'fa2911',\n",
      "       'fa2996', 'fa3084', 'fa3174'],\n",
      "      dtype='object')\n",
      "\n",
      "Training Recall: 0.8475524475524476\n",
      "\n",
      "Validation Recall: 0.8222222222222222\n"
     ]
    },
    {
     "data": {
      "text/plain": [
       "24"
      ]
     },
     "execution_count": 15,
     "metadata": {},
     "output_type": "execute_result"
    }
   ],
   "source": [
    "evaluate_pipeline(\n",
    "    return_n = False,\n",
    "    pipeline = sfs_pipe,\n",
    "    tune_params = {\n",
    "        # 'f_selector__estimator__C': hyper_params[ 'C' ],\n",
    "        # 'f_selector__estimator__penalty': hyper_params[ 'penalty' ],\n",
    "        'f_selector__n_features_to_select': [ sfm_n_features ],\n",
    "        'classifier__C': hyper_params[ 'C' ],\n",
    "        'classifier__penalty': hyper_params[ 'penalty' ]\n",
    "    }\n",
    ")"
   ]
  }
 ],
 "metadata": {
  "kernelspec": {
   "display_name": "Python 3 (ipykernel)",
   "language": "python",
   "name": "python3"
  },
  "language_info": {
   "codemirror_mode": {
    "name": "ipython",
    "version": 3
   },
   "file_extension": ".py",
   "mimetype": "text/x-python",
   "name": "python",
   "nbconvert_exporter": "python",
   "pygments_lexer": "ipython3",
   "version": "3.8.13"
  }
 },
 "nbformat": 4,
 "nbformat_minor": 5
}
