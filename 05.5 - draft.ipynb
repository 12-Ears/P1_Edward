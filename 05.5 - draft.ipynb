{
 "cells": [
  {
   "cell_type": "markdown",
   "id": "abf6086a",
   "metadata": {},
   "source": [
    "# 1.  Libraries"
   ]
  },
  {
   "cell_type": "code",
   "execution_count": 1,
   "id": "8d61caa4",
   "metadata": {},
   "outputs": [],
   "source": [
    "import pandas as pd\n",
    "from scipy import stats\n",
    "import matplotlib.pyplot as plt\n",
    "from sklearn.svm import LinearSVC\n",
    "from sklearn.pipeline import Pipeline\n",
    "from sklearn.preprocessing import StandardScaler\n",
    "from sklearn.model_selection import GridSearchCV, LeaveOneOut\n",
    "from sklearn.metrics import roc_auc_score, classification_report\n",
    "from sklearn.feature_selection import RFECV, SequentialFeatureSelector, SelectFromModel"
   ]
  },
  {
   "cell_type": "markdown",
   "id": "ce32a6b1",
   "metadata": {},
   "source": [
    "# 2. Defaults"
   ]
  },
  {
   "cell_type": "code",
   "execution_count": 2,
   "id": "6ad2a167",
   "metadata": {},
   "outputs": [],
   "source": [
    "seed = 12 # 12 ears\n",
    "y = 'OverallPoF' # target\n",
    "\n",
    "# cv parameters\n",
    "cv_params = {\n",
    "    'cv': 3, # k-fold\n",
    "    'n_jobs': -1, # use all cpu cores\n",
    "    'scoring': 'recall_macro',\n",
    "    'return_train_score': True\n",
    "}\n",
    "\n",
    "# model parameters\n",
    "base_params = {\n",
    "    'dual': False,\n",
    "    'random_state': seed,\n",
    "    'max_iter': 23220451 * 12,\n",
    "    'class_weight': 'balanced'\n",
    "}\n",
    "hyper_params = {\n",
    "    'penalty': [ 'l1', 'l2' ],\n",
    "    'C': [ 0.01, 0.1, 1, 10, 100 ]\n",
    "}\n",
    "\n",
    "# sample choices\n",
    "sample = '00 - Dataset/03 - Sampling Splits/00 - Original/'\n",
    "# sample = '00 - Dataset/03 - Sampling Splits/01 - NM2/'\n",
    "# sample = '00 - Dataset/03 - Sampling Splits/02 - SMOTE/'\n",
    "# sample = '00 - Dataset/03 - Sampling Splits/03 - SMOTEENN/'\n",
    "# sample = '00 - Dataset/03 - Sampling Splits/04 - SMOTETomek/'"
   ]
  },
  {
   "cell_type": "markdown",
   "id": "6ba6fcda",
   "metadata": {},
   "source": [
    "# 3. Dataset"
   ]
  },
  {
   "cell_type": "markdown",
   "id": "05c52f7d",
   "metadata": {},
   "source": [
    "## Import"
   ]
  },
  {
   "cell_type": "code",
   "execution_count": 3,
   "id": "7da7c372",
   "metadata": {},
   "outputs": [],
   "source": [
    "X_train = pd.read_csv(sample + 'X_train.csv').filter(regex = r'fa[0-9]*')\n",
    "y_train = pd.read_csv(sample + 'y_train.csv')[ y ]\n",
    "X_val = pd.read_csv(sample + 'X_val.csv').filter(regex = r'fa[0-9]*')\n",
    "y_val = pd.read_csv(sample + 'y_val.csv')[ y ]\n",
    "X_test = pd.read_csv(sample + 'X_test.csv').filter(regex = r'fa[0-9]*')\n",
    "y_test = pd.read_csv(sample + 'y_test.csv')[ y ]"
   ]
  },
  {
   "cell_type": "markdown",
   "id": "c3949708",
   "metadata": {},
   "source": [
    "## Scaling"
   ]
  },
  {
   "cell_type": "code",
   "execution_count": 4,
   "id": "6546221a",
   "metadata": {},
   "outputs": [],
   "source": [
    "scaler = StandardScaler()\n",
    "X_train = pd.DataFrame(scaler.fit_transform(X_train), columns = X_train.columns)\n",
    "X_val = pd.DataFrame(scaler.transform(X_val), columns = X_val.columns)\n",
    "X_test = pd.DataFrame(scaler.transform(X_test), columns = X_test.columns)"
   ]
  },
  {
   "cell_type": "markdown",
   "id": "6899ab7d",
   "metadata": {},
   "source": [
    "# 4. Functions"
   ]
  },
  {
   "cell_type": "code",
   "execution_count": 5,
   "id": "b26a61ce",
   "metadata": {},
   "outputs": [],
   "source": [
    "def refit_strategy(cv_results):\n",
    "    splits = set([ \n",
    "        k.split('_')[ 0 ] for k in cv_results.keys() if k.startswith('split') \n",
    "    ])\n",
    "    n_folds = len(cv_results[ 'params' ])\n",
    "    significance = [ ]\n",
    "    \n",
    "    for i in range(n_folds):\n",
    "        train_scores = [ ]\n",
    "        test_scores = [ ]\n",
    "        \n",
    "        for split in splits:\n",
    "            train_scores.append(cv_results[ split + '_train_score' ][ i ])\n",
    "            test_scores.append(cv_results[ split + '_test_score' ][ i ])\n",
    "        \n",
    "        _, pvalue = stats.ttest_ind(\n",
    "            train_scores, \n",
    "            test_scores,\n",
    "            equal_var = False\n",
    "        )\n",
    "        \n",
    "        if (pvalue > 0.05):\n",
    "            significance.append(False)\n",
    "        else:\n",
    "            significance.append(True)\n",
    "        \n",
    "    chosen_idx = list(cv_results[ 'rank_test_score' ]).index(1)\n",
    "    for i in range(len(significance) - 1, -1, -1):\n",
    "        if (significance[ i ]):\n",
    "            continue\n",
    "        chosen_idx = i\n",
    "        break\n",
    "        \n",
    "    print(cv_results[ 'mean_train_score' ])\n",
    "    print(cv_results[ 'std_train_score' ])\n",
    "    print(cv_results[ 'mean_test_score' ])\n",
    "    print(cv_results[ 'std_test_score' ])\n",
    "    print(significance)\n",
    "    return chosen_idx\n",
    "\n",
    "def evaluate_pipeline(pipeline, tune_params, X_train = X_train, X_val = X_val, X_test = X_test):\n",
    "    grid = GridSearchCV(\n",
    "        **cv_params,\n",
    "        estimator = pipeline,\n",
    "        refit = refit_strategy,\n",
    "        param_grid = tune_params,\n",
    "    )\n",
    "    grid.fit(X_train, y_train)\n",
    "    # print(grid.best_score_)\n",
    "    \n",
    "    f_selector = grid.best_estimator_[ 'f_selector' ]\n",
    "    classifier = grid.best_estimator_[ 'classifier' ]\n",
    "    \n",
    "    columns = X_train.columns[ f_selector.get_support() ]\n",
    "    \n",
    "    X_train = f_selector.transform(X_train)\n",
    "    X_val = f_selector.transform(X_val)\n",
    "    X_test = f_selector.transform(X_test)\n",
    "    \n",
    "    print(f'\\nSelected number of features:')\n",
    "    print(len(columns))\n",
    "    \n",
    "    print(f'\\nThe selected features:')\n",
    "    print(list(columns))\n",
    "    \n",
    "    print(f'\\nOptimum parameters:')\n",
    "    print(classifier.get_params())\n",
    "    \n",
    "    print(f'\\nTraining AUC:', roc_auc_score(\n",
    "        y_true = y_train, \n",
    "        y_score = classifier.decision_function(X_train)\n",
    "    ))\n",
    "    print(f'\\nValidation AUC:', roc_auc_score(\n",
    "        y_true = y_val, \n",
    "        y_score = classifier.decision_function(X_val)\n",
    "    ))\n",
    "    print(f'\\nTesting AUC:', roc_auc_score(\n",
    "        y_true = y_test, \n",
    "        y_score = classifier.decision_function(X_test)\n",
    "    ))"
   ]
  },
  {
   "cell_type": "markdown",
   "id": "92cdeb8b",
   "metadata": {},
   "source": [
    "# 5. Pipelines"
   ]
  },
  {
   "cell_type": "markdown",
   "id": "a978cf67",
   "metadata": {},
   "source": [
    "## 5.1. L1"
   ]
  },
  {
   "cell_type": "code",
   "execution_count": 6,
   "id": "e0bc3822",
   "metadata": {},
   "outputs": [],
   "source": [
    "l1_pipe = Pipeline([\n",
    "  (\n",
    "      'f_selector', \n",
    "      SelectFromModel(\n",
    "          estimator = LinearSVC(**base_params, penalty = 'l1')\n",
    "      )\n",
    "  ),\n",
    "  (\n",
    "      'classifier', \n",
    "      LinearSVC(**base_params)\n",
    "  )\n",
    "])"
   ]
  },
  {
   "cell_type": "code",
   "execution_count": 7,
   "id": "d5d6383c",
   "metadata": {
    "scrolled": true
   },
   "outputs": [],
   "source": [
    "# l1_pipe.get_params()"
   ]
  },
  {
   "cell_type": "code",
   "execution_count": 8,
   "id": "d47005dc",
   "metadata": {},
   "outputs": [],
   "source": [
    "l1_pipe_params = {\n",
    "    'classifier__C': hyper_params[ 'C' ],\n",
    "    'classifier__penalty': hyper_params[ 'penalty' ]\n",
    "}"
   ]
  },
  {
   "cell_type": "markdown",
   "id": "1d3d90a5",
   "metadata": {},
   "source": [
    "## 5.2. L2"
   ]
  },
  {
   "cell_type": "code",
   "execution_count": 9,
   "id": "f6aae88c",
   "metadata": {},
   "outputs": [],
   "source": [
    "l2_pipe = Pipeline([\n",
    "  (\n",
    "      'f_selector', \n",
    "      SelectFromModel(\n",
    "          estimator = LinearSVC(**base_params),\n",
    "          threshold = '1.5 * mean'\n",
    "      )\n",
    "  ),\n",
    "  (\n",
    "      'classifier', \n",
    "      LinearSVC(**base_params)\n",
    "  )\n",
    "])"
   ]
  },
  {
   "cell_type": "code",
   "execution_count": 10,
   "id": "9054c0ca",
   "metadata": {
    "scrolled": true
   },
   "outputs": [],
   "source": [
    "# l2_pipe.get_params()"
   ]
  },
  {
   "cell_type": "code",
   "execution_count": 11,
   "id": "8b214920",
   "metadata": {},
   "outputs": [],
   "source": [
    "l2_pipe_params = {\n",
    "    'classifier__C': hyper_params[ 'C' ],\n",
    "    'classifier__penalty': hyper_params[ 'penalty' ]\n",
    "}"
   ]
  },
  {
   "cell_type": "markdown",
   "id": "0262982c",
   "metadata": {},
   "source": [
    "# 6. Fitting the Pipelines"
   ]
  },
  {
   "cell_type": "markdown",
   "id": "685d4fb7",
   "metadata": {},
   "source": [
    "## 6.1. L1"
   ]
  },
  {
   "cell_type": "code",
   "execution_count": 12,
   "id": "ee44cba8",
   "metadata": {
    "scrolled": true
   },
   "outputs": [
    {
     "name": "stdout",
     "output_type": "stream",
     "text": [
      "[0.73941778 0.84558814 0.87209175 0.93657604 0.969215   0.97113071\n",
      " 1.         0.99035463 1.         1.        ]\n",
      "[0.00382343 0.02327263 0.03458981 0.01686702 0.00551538 0.00485712\n",
      " 0.         0.00723963 0.         0.        ]\n",
      "[0.7240071  0.81911935 0.8108137  0.8137836  0.80990763 0.78222214\n",
      " 0.73495545 0.71114593 0.74640718 0.71114593]\n",
      "[0.01708939 0.04755865 0.0671038  0.05446248 0.04197524 0.04507883\n",
      " 0.08872216 0.10268102 0.08689437 0.10268102]\n",
      "[False, False, False, False, True, True, False, False, False, False]\n",
      "\n",
      "Selected number of features:\n",
      "24\n",
      "\n",
      "The selected features:\n",
      "['fa280', 'fa363', 'fa408', 'fa727', 'fa771', 'fa943', 'fa1296', 'fa1542', 'fa1781', 'fa1834', 'fa2310', 'fa2911', 'fa2996', 'fa3174', 'fa3363', 'fa3775', 'fa4000', 'fa4237', 'fa4756', 'fa4896', 'fa5495', 'fa5656', 'fa5993', 'fa7550']\n",
      "\n",
      "Optimum parameters:\n",
      "{'C': 100, 'class_weight': 'balanced', 'dual': False, 'fit_intercept': True, 'intercept_scaling': 1, 'loss': 'squared_hinge', 'max_iter': 278645412, 'multi_class': 'ovr', 'penalty': 'l2', 'random_state': 12, 'tol': 0.0001, 'verbose': 0}\n",
      "\n",
      "Training AUC: 1.0\n",
      "\n",
      "Validation AUC: 0.7222222222222222\n",
      "\n",
      "Testing AUC: 0.9651567944250872\n"
     ]
    }
   ],
   "source": [
    "evaluate_pipeline(\n",
    "    pipeline = l1_pipe,\n",
    "    tune_params = l1_pipe_params\n",
    ")"
   ]
  },
  {
   "cell_type": "markdown",
   "id": "62ded83e",
   "metadata": {},
   "source": [
    "## 6.2. L2"
   ]
  },
  {
   "cell_type": "code",
   "execution_count": 13,
   "id": "e071e1e3",
   "metadata": {
    "scrolled": true
   },
   "outputs": [
    {
     "name": "stdout",
     "output_type": "stream",
     "text": [
      "[0.7436597  0.83749761 0.84182355 0.9066687  0.96581128 0.97493986\n",
      " 0.99806202 0.99420832 1.         1.        ]\n",
      "[0.0138449  0.02688273 0.00965048 0.0428711  0.01651996 0.0120119\n",
      " 0.00274072 0.00474718 0.         0.        ]\n",
      "[0.72013113 0.77989404 0.79152195 0.80224378 0.76293038 0.77068232\n",
      " 0.76310656 0.74317301 0.74308492 0.75092495]\n",
      "[0.01701789 0.08658061 0.07812826 0.05449599 0.02528693 0.02751592\n",
      " 0.05930889 0.04019737 0.0437018  0.05084785]\n",
      "[False, False, False, False, True, True, True, True, True, True]\n",
      "\n",
      "Selected number of features:\n",
      "24\n",
      "\n",
      "The selected features:\n",
      "['fa280', 'fa408', 'fa432', 'fa514', 'fa707', 'fa727', 'fa771', 'fa793', 'fa1296', 'fa1334', 'fa1498', 'fa1542', 'fa2996', 'fa3775', 'fa3886', 'fa4000', 'fa4117', 'fa4237', 'fa4362', 'fa4756', 'fa4896', 'fa5495', 'fa5656', 'fa5993']\n",
      "\n",
      "Optimum parameters:\n",
      "{'C': 0.1, 'class_weight': 'balanced', 'dual': False, 'fit_intercept': True, 'intercept_scaling': 1, 'loss': 'squared_hinge', 'max_iter': 278645412, 'multi_class': 'ovr', 'penalty': 'l2', 'random_state': 12, 'tol': 0.0001, 'verbose': 0}\n",
      "\n",
      "Training AUC: 0.9545454545454546\n",
      "\n",
      "Validation AUC: 0.9444444444444445\n",
      "\n",
      "Testing AUC: 0.9790940766550522\n"
     ]
    }
   ],
   "source": [
    "evaluate_pipeline(\n",
    "    pipeline = l2_pipe,\n",
    "    tune_params = l2_pipe_params\n",
    ")"
   ]
  },
  {
   "cell_type": "code",
   "execution_count": null,
   "id": "a7ee9129",
   "metadata": {},
   "outputs": [],
   "source": []
  }
 ],
 "metadata": {
  "kernelspec": {
   "display_name": "Python 3 (ipykernel)",
   "language": "python",
   "name": "python3"
  },
  "language_info": {
   "codemirror_mode": {
    "name": "ipython",
    "version": 3
   },
   "file_extension": ".py",
   "mimetype": "text/x-python",
   "name": "python",
   "nbconvert_exporter": "python",
   "pygments_lexer": "ipython3",
   "version": "3.8.13"
  }
 },
 "nbformat": 4,
 "nbformat_minor": 5
}
