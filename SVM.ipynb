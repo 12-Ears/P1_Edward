{
 "cells": [
  {
   "cell_type": "markdown",
   "id": "5da78cb0",
   "metadata": {},
   "source": [
    "# 1. Initial Steps"
   ]
  },
  {
   "cell_type": "markdown",
   "id": "4d2dc19a",
   "metadata": {},
   "source": [
    "### Load Libraries"
   ]
  },
  {
   "cell_type": "code",
   "execution_count": 1,
   "id": "30e791ae-95a2-46b9-bfae-294920709792",
   "metadata": {},
   "outputs": [],
   "source": [
    "import pandas as pd\n",
    "import numpy as np\n",
    "\n",
    "from sklearn.svm import SVC\n",
    "from matplotlib import pyplot as plt\n",
    "from sklearn.preprocessing import StandardScaler\n",
    "from sklearn.model_selection import train_test_split\n",
    "from sklearn.metrics import f1_score, classification_report"
   ]
  },
  {
   "cell_type": "markdown",
   "id": "4319341a",
   "metadata": {},
   "source": [
    "### Set Default Values"
   ]
  },
  {
   "cell_type": "code",
   "execution_count": 2,
   "id": "6653bb4b",
   "metadata": {},
   "outputs": [],
   "source": [
    "seed = 12 # 12 ears\n",
    "y = 'OverallPoF' # target"
   ]
  },
  {
   "cell_type": "markdown",
   "id": "0fa7fbc4",
   "metadata": {},
   "source": [
    "# 2. Data Prep"
   ]
  },
  {
   "cell_type": "markdown",
   "id": "fbc62318",
   "metadata": {},
   "source": [
    "### Read Data"
   ]
  },
  {
   "cell_type": "code",
   "execution_count": 3,
   "id": "fe86f00b",
   "metadata": {},
   "outputs": [],
   "source": [
    "absorbance = pd.read_csv('Dataset/a_data.csv')\n",
    "admittance = pd.read_csv('Dataset/y_data.csv')\n",
    "phase = pd.read_csv('Dataset/p_data.csv')"
   ]
  },
  {
   "cell_type": "markdown",
   "id": "99d947d6",
   "metadata": {},
   "source": [
    "### Separate Frequencies vs non Frequencies"
   ]
  },
  {
   "cell_type": "code",
   "execution_count": 4,
   "id": "cc5db8c0",
   "metadata": {},
   "outputs": [],
   "source": [
    "frequencies = absorbance.filter(regex = r'f[(]').columns\n",
    "nonf_vars = absorbance.drop(columns = frequencies.union([ y ])).columns"
   ]
  },
  {
   "cell_type": "markdown",
   "id": "ab41286a",
   "metadata": {},
   "source": [
    "### Add prefixes to frequency columns, so we can merge in the next step"
   ]
  },
  {
   "cell_type": "code",
   "execution_count": 5,
   "id": "95101d8e",
   "metadata": {},
   "outputs": [],
   "source": [
    "def rename_mapping(columns, prefix):\n",
    "    mapping = { }\n",
    "    for c in columns:\n",
    "        mapping[ c ] = prefix + c\n",
    "    return mapping \n",
    "\n",
    "absorbance = absorbance.rename(columns = rename_mapping(frequencies, 'a_'))\n",
    "admittance = admittance.rename(columns = rename_mapping(frequencies, 'y_'))\n",
    "phase = phase.rename(columns = rename_mapping(frequencies, 'p_'))"
   ]
  },
  {
   "cell_type": "markdown",
   "id": "81802c1f",
   "metadata": {},
   "source": [
    "### Merge Absorbance, Admittance, and Phase"
   ]
  },
  {
   "cell_type": "code",
   "execution_count": 6,
   "id": "e127bc99",
   "metadata": {
    "scrolled": true
   },
   "outputs": [],
   "source": [
    "merged_set = absorbance.merge(right = admittance, on = list(nonf_vars) + [ y ])\n",
    "merged_set = merged_set.merge(right = phase, on = list(nonf_vars) + [ y ])"
   ]
  },
  {
   "cell_type": "markdown",
   "id": "0b03fcf8",
   "metadata": {},
   "source": [
    "### 80 : 20 Train Test Split"
   ]
  },
  {
   "cell_type": "code",
   "execution_count": 7,
   "id": "b29e05a9",
   "metadata": {},
   "outputs": [],
   "source": [
    "X_train, X_test, y_train, y_test = train_test_split(\n",
    "    merged_set.drop(columns = y), # X\n",
    "    merged_set[ y ], # y\n",
    "    test_size = 0.2, \n",
    "    random_state = seed\n",
    ")"
   ]
  },
  {
   "cell_type": "markdown",
   "id": "e1ad0d8f",
   "metadata": {},
   "source": [
    "### Feature Scaling"
   ]
  },
  {
   "cell_type": "code",
   "execution_count": 8,
   "id": "483ec7e2",
   "metadata": {},
   "outputs": [],
   "source": [
    "scaler = StandardScaler()\n",
    "X_train = pd.DataFrame(scaler.fit_transform(X_train), columns = X_train.columns)\n",
    "X_test = pd.DataFrame(scaler.transform(X_test), columns = X_train.columns)"
   ]
  },
  {
   "cell_type": "markdown",
   "id": "7ae8fe0a",
   "metadata": {},
   "source": [
    "# 3. Modelling"
   ]
  },
  {
   "cell_type": "markdown",
   "id": "b2d4d33c",
   "metadata": {},
   "source": [
    "### All (frequency) For One (model)"
   ]
  },
  {
   "cell_type": "code",
   "execution_count": 9,
   "id": "2a221a05",
   "metadata": {},
   "outputs": [],
   "source": [
    "def performance_report(\n",
    "    classifier, \n",
    "    X_train = X_train, \n",
    "    X_test = X_test, \n",
    "    y_train = y_train, \n",
    "    y_test = y_test,\n",
    "    top = 10\n",
    "):\n",
    "    \n",
    "    print('Performance on Training Set')\n",
    "    print(classification_report(y_train, classifier.predict(X_train)))\n",
    "    print('---------------------------------------------------------')\n",
    "    \n",
    "    print('Performance on Testing Set')\n",
    "    print(classification_report(y_test, classifier.predict(X_test)))\n",
    "    print('---------------------------------------------------------')\n",
    "    \n",
    "    coef_plot = pd.Series(\n",
    "        data = abs(classifier.coef_[ 0 ]), \n",
    "        index = classifier.feature_names_in_\n",
    "    ).nlargest(top).sort_values().plot(kind = 'barh')\n",
    "    \n",
    "    coef_plot.set_title('Top-%s Most Contributing Features'%top)\n",
    "    coef_plot.set_xlabel('Coefficient Weights')"
   ]
  },
  {
   "cell_type": "code",
   "execution_count": 10,
   "id": "b6e3cd56",
   "metadata": {
    "scrolled": false
   },
   "outputs": [
    {
     "name": "stdout",
     "output_type": "stream",
     "text": [
      "Performance on Training Set\n",
      "              precision    recall  f1-score   support\n",
      "\n",
      "           0       1.00      1.00      1.00       160\n",
      "           1       1.00      1.00      1.00        31\n",
      "\n",
      "    accuracy                           1.00       191\n",
      "   macro avg       1.00      1.00      1.00       191\n",
      "weighted avg       1.00      1.00      1.00       191\n",
      "\n",
      "---------------------------------------------------------\n",
      "Performance on Testing Set\n",
      "              precision    recall  f1-score   support\n",
      "\n",
      "           0       0.95      0.88      0.91        41\n",
      "           1       0.50      0.71      0.59         7\n",
      "\n",
      "    accuracy                           0.85        48\n",
      "   macro avg       0.72      0.80      0.75        48\n",
      "weighted avg       0.88      0.85      0.86        48\n",
      "\n",
      "---------------------------------------------------------\n"
     ]
    },
    {
     "data": {
      "image/png": "[encoded data removed]",
      "text/plain": [
       "<Figure size 432x288 with 1 Axes>"
      ]
     },
     "metadata": {
      "needs_background": "light"
     },
     "output_type": "display_data"
    }
   ],
   "source": [
    "afo_svc = SVC(kernel = 'linear', class_weight = 'balanced', random_state = seed)\n",
    "afo_svc.fit(X = X_train, y = y_train)\n",
    "\n",
    "performance_report(classifier = afo_svc)"
   ]
  },
  {
   "cell_type": "markdown",
   "id": "365de194",
   "metadata": {},
   "source": [
    "### AFO with Only Frequencies (OF)"
   ]
  },
  {
   "cell_type": "code",
   "execution_count": 11,
   "id": "81da33a4",
   "metadata": {
    "scrolled": true
   },
   "outputs": [
    {
     "name": "stdout",
     "output_type": "stream",
     "text": [
      "Performance on Training Set\n",
      "              precision    recall  f1-score   support\n",
      "\n",
      "           0       1.00      1.00      1.00       160\n",
      "           1       1.00      1.00      1.00        31\n",
      "\n",
      "    accuracy                           1.00       191\n",
      "   macro avg       1.00      1.00      1.00       191\n",
      "weighted avg       1.00      1.00      1.00       191\n",
      "\n",
      "---------------------------------------------------------\n",
      "Performance on Testing Set\n",
      "              precision    recall  f1-score   support\n",
      "\n",
      "           0       0.95      0.90      0.92        41\n",
      "           1       0.56      0.71      0.63         7\n",
      "\n",
      "    accuracy                           0.88        48\n",
      "   macro avg       0.75      0.81      0.78        48\n",
      "weighted avg       0.89      0.88      0.88        48\n",
      "\n",
      "---------------------------------------------------------\n"
     ]
    },
    {
     "data": {
      "image/png": "[encoded data removed]",
      "text/plain": [
       "<Figure size 432x288 with 1 Axes>"
      ]
     },
     "metadata": {
      "needs_background": "light"
     },
     "output_type": "display_data"
    }
   ],
   "source": [
    "afo_of_svc = SVC(kernel = 'linear', class_weight = 'balanced', random_state = seed)\n",
    "afo_of_svc.fit(X = X_train.drop(columns = nonf_vars), y = y_train)\n",
    "\n",
    "performance_report(\n",
    "    classifier = afo_of_svc,\n",
    "    X_train = X_train.drop(columns = nonf_vars),\n",
    "    X_test = X_test.drop(columns = nonf_vars)\n",
    ")"
   ]
  },
  {
   "cell_type": "markdown",
   "id": "7316f0ec",
   "metadata": {},
   "source": [
    "# *WE DONT USE BEYOND THIS POINT*"
   ]
  },
  {
   "cell_type": "markdown",
   "id": "8f118634",
   "metadata": {},
   "source": [
    "### One (model) For All (frequency)"
   ]
  },
  {
   "cell_type": "code",
   "execution_count": 12,
   "id": "5649dd5d",
   "metadata": {},
   "outputs": [],
   "source": [
    "model_storage = [ ]\n",
    "\n",
    "for freq in frequencies:\n",
    "    ofa_svc = SVC(kernel = 'linear', class_weight = 'balanced', random_state = seed)\n",
    "    freq_columns = [ prefix + freq for prefix in [ 'a_', 'y_', 'p_' ] ]\n",
    "    chosen_col = nonf_vars.append(pd.Index(freq_columns))\n",
    "    \n",
    "    ofa_svc.fit(X = X_train[ chosen_col ], y = y_train)\n",
    "    \n",
    "    model_storage.append({\n",
    "        'f(Hz)': float(freq[ freq.find('(') + 1 : freq.find(')') ]),\n",
    "        'model': ofa_svc,\n",
    "        'train_f1': f1_score(\n",
    "            y_true = y_train, \n",
    "            y_pred = ofa_svc.predict(X_train[ chosen_col ]),\n",
    "            average = 'macro'\n",
    "        ),\n",
    "        'test_f1': f1_score(\n",
    "            y_true = y_test, \n",
    "            y_pred = ofa_svc.predict(X_test[ chosen_col ]),\n",
    "            average = 'macro'\n",
    "        )\n",
    "    })\n",
    "    \n",
    "storage_df = pd.DataFrame(\n",
    "    model_storage, \n",
    "    columns = [ 'f(Hz)', 'model', 'train_f1', 'test_f1' ]\n",
    ")"
   ]
  },
  {
   "cell_type": "code",
   "execution_count": 13,
   "id": "efdeca01",
   "metadata": {
    "scrolled": false
   },
   "outputs": [
    {
     "data": {
      "text/html": [
       "<div>\n",
       "<style scoped>\n",
       "    .dataframe tbody tr th:only-of-type {\n",
       "        vertical-align: middle;\n",
       "    }\n",
       "\n",
       "    .dataframe tbody tr th {\n",
       "        vertical-align: top;\n",
       "    }\n",
       "\n",
       "    .dataframe thead th {\n",
       "        text-align: right;\n",
       "    }\n",
       "</style>\n",
       "<table border=\"1\" class=\"dataframe\">\n",
       "  <thead>\n",
       "    <tr style=\"text-align: right;\">\n",
       "      <th></th>\n",
       "      <th>f(Hz)</th>\n",
       "      <th>model</th>\n",
       "      <th>train_f1</th>\n",
       "      <th>test_f1</th>\n",
       "    </tr>\n",
       "  </thead>\n",
       "  <tbody>\n",
       "    <tr>\n",
       "      <th>37</th>\n",
       "      <td>1090.5077</td>\n",
       "      <td>SVC(class_weight='balanced', kernel='linear', ...</td>\n",
       "      <td>0.835155</td>\n",
       "      <td>0.925000</td>\n",
       "    </tr>\n",
       "    <tr>\n",
       "      <th>38</th>\n",
       "      <td>1122.4620</td>\n",
       "      <td>SVC(class_weight='balanced', kernel='linear', ...</td>\n",
       "      <td>0.828050</td>\n",
       "      <td>0.925000</td>\n",
       "    </tr>\n",
       "    <tr>\n",
       "      <th>31</th>\n",
       "      <td>917.0040</td>\n",
       "      <td>SVC(class_weight='balanced', kernel='linear', ...</td>\n",
       "      <td>0.832397</td>\n",
       "      <td>0.892777</td>\n",
       "    </tr>\n",
       "    <tr>\n",
       "      <th>32</th>\n",
       "      <td>943.8743</td>\n",
       "      <td>SVC(class_weight='balanced', kernel='linear', ...</td>\n",
       "      <td>0.832397</td>\n",
       "      <td>0.892777</td>\n",
       "    </tr>\n",
       "    <tr>\n",
       "      <th>34</th>\n",
       "      <td>1000.0000</td>\n",
       "      <td>SVC(class_weight='balanced', kernel='linear', ...</td>\n",
       "      <td>0.818351</td>\n",
       "      <td>0.892777</td>\n",
       "    </tr>\n",
       "    <tr>\n",
       "      <th>...</th>\n",
       "      <td>...</td>\n",
       "      <td>...</td>\n",
       "      <td>...</td>\n",
       "      <td>...</td>\n",
       "    </tr>\n",
       "    <tr>\n",
       "      <th>91</th>\n",
       "      <td>5187.3582</td>\n",
       "      <td>SVC(class_weight='balanced', kernel='linear', ...</td>\n",
       "      <td>0.554686</td>\n",
       "      <td>0.452109</td>\n",
       "    </tr>\n",
       "    <tr>\n",
       "      <th>102</th>\n",
       "      <td>7127.1897</td>\n",
       "      <td>SVC(class_weight='balanced', kernel='linear', ...</td>\n",
       "      <td>0.522381</td>\n",
       "      <td>0.445378</td>\n",
       "    </tr>\n",
       "    <tr>\n",
       "      <th>94</th>\n",
       "      <td>5656.8542</td>\n",
       "      <td>SVC(class_weight='balanced', kernel='linear', ...</td>\n",
       "      <td>0.560024</td>\n",
       "      <td>0.442242</td>\n",
       "    </tr>\n",
       "    <tr>\n",
       "      <th>90</th>\n",
       "      <td>5039.6842</td>\n",
       "      <td>SVC(class_weight='balanced', kernel='linear', ...</td>\n",
       "      <td>0.540374</td>\n",
       "      <td>0.407970</td>\n",
       "    </tr>\n",
       "    <tr>\n",
       "      <th>106</th>\n",
       "      <td>8000.0000</td>\n",
       "      <td>SVC(class_weight='balanced', kernel='linear', ...</td>\n",
       "      <td>0.486935</td>\n",
       "      <td>0.400000</td>\n",
       "    </tr>\n",
       "  </tbody>\n",
       "</table>\n",
       "<p>107 rows × 4 columns</p>\n",
       "</div>"
      ],
      "text/plain": [
       "         f(Hz)                                              model  train_f1  \\\n",
       "37   1090.5077  SVC(class_weight='balanced', kernel='linear', ...  0.835155   \n",
       "38   1122.4620  SVC(class_weight='balanced', kernel='linear', ...  0.828050   \n",
       "31    917.0040  SVC(class_weight='balanced', kernel='linear', ...  0.832397   \n",
       "32    943.8743  SVC(class_weight='balanced', kernel='linear', ...  0.832397   \n",
       "34   1000.0000  SVC(class_weight='balanced', kernel='linear', ...  0.818351   \n",
       "..         ...                                                ...       ...   \n",
       "91   5187.3582  SVC(class_weight='balanced', kernel='linear', ...  0.554686   \n",
       "102  7127.1897  SVC(class_weight='balanced', kernel='linear', ...  0.522381   \n",
       "94   5656.8542  SVC(class_weight='balanced', kernel='linear', ...  0.560024   \n",
       "90   5039.6842  SVC(class_weight='balanced', kernel='linear', ...  0.540374   \n",
       "106  8000.0000  SVC(class_weight='balanced', kernel='linear', ...  0.486935   \n",
       "\n",
       "      test_f1  \n",
       "37   0.925000  \n",
       "38   0.925000  \n",
       "31   0.892777  \n",
       "32   0.892777  \n",
       "34   0.892777  \n",
       "..        ...  \n",
       "91   0.452109  \n",
       "102  0.445378  \n",
       "94   0.442242  \n",
       "90   0.407970  \n",
       "106  0.400000  \n",
       "\n",
       "[107 rows x 4 columns]"
      ]
     },
     "execution_count": 13,
     "metadata": {},
     "output_type": "execute_result"
    }
   ],
   "source": [
    "storage_df.sort_values(by = [ 'test_f1', 'train_f1' ], ascending = False)"
   ]
  },
  {
   "cell_type": "code",
   "execution_count": 14,
   "id": "e344fbc8",
   "metadata": {
    "scrolled": false
   },
   "outputs": [
    {
     "name": "stdout",
     "output_type": "stream",
     "text": [
      "Performance on Training Set\n",
      "              precision    recall  f1-score   support\n",
      "\n",
      "           0       0.96      0.93      0.94       160\n",
      "           1       0.69      0.77      0.73        31\n",
      "\n",
      "    accuracy                           0.91       191\n",
      "   macro avg       0.82      0.85      0.84       191\n",
      "weighted avg       0.91      0.91      0.91       191\n",
      "\n",
      "---------------------------------------------------------\n",
      "Performance on Testing Set\n",
      "              precision    recall  f1-score   support\n",
      "\n",
      "           0       1.00      0.95      0.97        41\n",
      "           1       0.78      1.00      0.88         7\n",
      "\n",
      "    accuracy                           0.96        48\n",
      "   macro avg       0.89      0.98      0.93        48\n",
      "weighted avg       0.97      0.96      0.96        48\n",
      "\n",
      "---------------------------------------------------------\n"
     ]
    },
    {
     "data": {
      "image/png": "[encoded data removed]",
      "text/plain": [
       "<Figure size 432x288 with 1 Axes>"
      ]
     },
     "metadata": {
      "needs_background": "light"
     },
     "output_type": "display_data"
    }
   ],
   "source": [
    "best_idx = 37\n",
    "best_ofa = storage_df.iloc[ best_idx ][ 'model' ]\n",
    "\n",
    "performance_report(\n",
    "    classifier = best_ofa,\n",
    "    X_train = X_train[ best_ofa.feature_names_in_ ],\n",
    "    X_test = X_test[ best_ofa.feature_names_in_ ]\n",
    ")"
   ]
  },
  {
   "cell_type": "markdown",
   "id": "88018e35",
   "metadata": {},
   "source": [
    "### OFA with OF"
   ]
  },
  {
   "cell_type": "code",
   "execution_count": 15,
   "id": "9ac16614",
   "metadata": {},
   "outputs": [],
   "source": [
    "model_storage = [ ]\n",
    "\n",
    "for freq in frequencies:\n",
    "    ofa_svc = SVC(kernel = 'linear', class_weight = 'balanced', random_state = seed)\n",
    "    freq_columns = [ prefix + freq for prefix in [ 'a_', 'y_', 'p_' ] ]\n",
    "    chosen_col = pd.Index(freq_columns) # only this changed\n",
    "    \n",
    "    ofa_svc.fit(X = X_train[ chosen_col ], y = y_train)\n",
    "    \n",
    "    model_storage.append({\n",
    "        'f(Hz)': float(freq[ freq.find('(') + 1 : freq.find(')') ]),\n",
    "        'model': ofa_svc,\n",
    "        'train_f1': f1_score(\n",
    "            y_true = y_train, \n",
    "            y_pred = ofa_svc.predict(X_train[ chosen_col ]),\n",
    "            average = 'macro'\n",
    "        ),\n",
    "        'test_f1': f1_score(\n",
    "            y_true = y_test, \n",
    "            y_pred = ofa_svc.predict(X_test[ chosen_col ]),\n",
    "            average = 'macro'\n",
    "        )\n",
    "    })\n",
    "    \n",
    "storage_df = pd.DataFrame(\n",
    "    model_storage, \n",
    "    columns = [ 'f(Hz)', 'model', 'train_f1', 'test_f1' ]\n",
    ")"
   ]
  },
  {
   "cell_type": "code",
   "execution_count": 21,
   "id": "1a834a3b",
   "metadata": {},
   "outputs": [
    {
     "data": {
      "text/html": [
       "<div>\n",
       "<style scoped>\n",
       "    .dataframe tbody tr th:only-of-type {\n",
       "        vertical-align: middle;\n",
       "    }\n",
       "\n",
       "    .dataframe tbody tr th {\n",
       "        vertical-align: top;\n",
       "    }\n",
       "\n",
       "    .dataframe thead th {\n",
       "        text-align: right;\n",
       "    }\n",
       "</style>\n",
       "<table border=\"1\" class=\"dataframe\">\n",
       "  <thead>\n",
       "    <tr style=\"text-align: right;\">\n",
       "      <th></th>\n",
       "      <th>f(Hz)</th>\n",
       "      <th>model</th>\n",
       "      <th>train_f1</th>\n",
       "      <th>test_f1</th>\n",
       "    </tr>\n",
       "  </thead>\n",
       "  <tbody>\n",
       "    <tr>\n",
       "      <th>53</th>\n",
       "      <td>1731.0731</td>\n",
       "      <td>SVC(class_weight='balanced', kernel='linear', ...</td>\n",
       "      <td>0.803203</td>\n",
       "      <td>0.863248</td>\n",
       "    </tr>\n",
       "    <tr>\n",
       "      <th>33</th>\n",
       "      <td>971.5319</td>\n",
       "      <td>SVC(class_weight='balanced', kernel='linear', ...</td>\n",
       "      <td>0.767073</td>\n",
       "      <td>0.863248</td>\n",
       "    </tr>\n",
       "    <tr>\n",
       "      <th>44</th>\n",
       "      <td>1334.8399</td>\n",
       "      <td>SVC(class_weight='balanced', kernel='linear', ...</td>\n",
       "      <td>0.828050</td>\n",
       "      <td>0.835954</td>\n",
       "    </tr>\n",
       "    <tr>\n",
       "      <th>43</th>\n",
       "      <td>1296.8396</td>\n",
       "      <td>SVC(class_weight='balanced', kernel='linear', ...</td>\n",
       "      <td>0.814280</td>\n",
       "      <td>0.835954</td>\n",
       "    </tr>\n",
       "    <tr>\n",
       "      <th>42</th>\n",
       "      <td>1259.9210</td>\n",
       "      <td>SVC(class_weight='balanced', kernel='linear', ...</td>\n",
       "      <td>0.807601</td>\n",
       "      <td>0.835954</td>\n",
       "    </tr>\n",
       "    <tr>\n",
       "      <th>...</th>\n",
       "      <td>...</td>\n",
       "      <td>...</td>\n",
       "      <td>...</td>\n",
       "      <td>...</td>\n",
       "    </tr>\n",
       "    <tr>\n",
       "      <th>94</th>\n",
       "      <td>5656.8542</td>\n",
       "      <td>SVC(class_weight='balanced', kernel='linear', ...</td>\n",
       "      <td>0.492926</td>\n",
       "      <td>0.444444</td>\n",
       "    </tr>\n",
       "    <tr>\n",
       "      <th>102</th>\n",
       "      <td>7127.1897</td>\n",
       "      <td>SVC(class_weight='balanced', kernel='linear', ...</td>\n",
       "      <td>0.462800</td>\n",
       "      <td>0.404467</td>\n",
       "    </tr>\n",
       "    <tr>\n",
       "      <th>106</th>\n",
       "      <td>8000.0000</td>\n",
       "      <td>SVC(class_weight='balanced', kernel='linear', ...</td>\n",
       "      <td>0.414908</td>\n",
       "      <td>0.382705</td>\n",
       "    </tr>\n",
       "    <tr>\n",
       "      <th>101</th>\n",
       "      <td>6924.2925</td>\n",
       "      <td>SVC(class_weight='balanced', kernel='linear', ...</td>\n",
       "      <td>0.386993</td>\n",
       "      <td>0.348009</td>\n",
       "    </tr>\n",
       "    <tr>\n",
       "      <th>100</th>\n",
       "      <td>6727.1713</td>\n",
       "      <td>SVC(class_weight='balanced', kernel='linear', ...</td>\n",
       "      <td>0.339685</td>\n",
       "      <td>0.314286</td>\n",
       "    </tr>\n",
       "  </tbody>\n",
       "</table>\n",
       "<p>107 rows × 4 columns</p>\n",
       "</div>"
      ],
      "text/plain": [
       "         f(Hz)                                              model  train_f1  \\\n",
       "53   1731.0731  SVC(class_weight='balanced', kernel='linear', ...  0.803203   \n",
       "33    971.5319  SVC(class_weight='balanced', kernel='linear', ...  0.767073   \n",
       "44   1334.8399  SVC(class_weight='balanced', kernel='linear', ...  0.828050   \n",
       "43   1296.8396  SVC(class_weight='balanced', kernel='linear', ...  0.814280   \n",
       "42   1259.9210  SVC(class_weight='balanced', kernel='linear', ...  0.807601   \n",
       "..         ...                                                ...       ...   \n",
       "94   5656.8542  SVC(class_weight='balanced', kernel='linear', ...  0.492926   \n",
       "102  7127.1897  SVC(class_weight='balanced', kernel='linear', ...  0.462800   \n",
       "106  8000.0000  SVC(class_weight='balanced', kernel='linear', ...  0.414908   \n",
       "101  6924.2925  SVC(class_weight='balanced', kernel='linear', ...  0.386993   \n",
       "100  6727.1713  SVC(class_weight='balanced', kernel='linear', ...  0.339685   \n",
       "\n",
       "      test_f1  \n",
       "53   0.863248  \n",
       "33   0.863248  \n",
       "44   0.835954  \n",
       "43   0.835954  \n",
       "42   0.835954  \n",
       "..        ...  \n",
       "94   0.444444  \n",
       "102  0.404467  \n",
       "106  0.382705  \n",
       "101  0.348009  \n",
       "100  0.314286  \n",
       "\n",
       "[107 rows x 4 columns]"
      ]
     },
     "execution_count": 21,
     "metadata": {},
     "output_type": "execute_result"
    }
   ],
   "source": [
    "storage_df.sort_values(by = [ 'test_f1', 'train_f1' ], ascending = False)"
   ]
  },
  {
   "cell_type": "code",
   "execution_count": 23,
   "id": "e8ee4670",
   "metadata": {},
   "outputs": [
    {
     "name": "stdout",
     "output_type": "stream",
     "text": [
      "Performance on Training Set\n",
      "              precision    recall  f1-score   support\n",
      "\n",
      "           0       0.95      0.93      0.94       160\n",
      "           1       0.67      0.77      0.72        31\n",
      "\n",
      "    accuracy                           0.90       191\n",
      "   macro avg       0.81      0.85      0.83       191\n",
      "weighted avg       0.91      0.90      0.90       191\n",
      "\n",
      "---------------------------------------------------------\n",
      "Performance on Testing Set\n",
      "              precision    recall  f1-score   support\n",
      "\n",
      "           0       1.00      0.88      0.94        41\n",
      "           1       0.58      1.00      0.74         7\n",
      "\n",
      "    accuracy                           0.90        48\n",
      "   macro avg       0.79      0.94      0.84        48\n",
      "weighted avg       0.94      0.90      0.91        48\n",
      "\n",
      "---------------------------------------------------------\n"
     ]
    },
    {
     "data": {
      "image/png": "[encoded data removed]",
      "text/plain": [
       "<Figure size 432x288 with 1 Axes>"
      ]
     },
     "metadata": {
      "needs_background": "light"
     },
     "output_type": "display_data"
    }
   ],
   "source": [
    "best_idx = 44\n",
    "best_ofa = storage_df.iloc[ best_idx ][ 'model' ]\n",
    "\n",
    "performance_report(\n",
    "    classifier = best_ofa,\n",
    "    X_train = X_train[ best_ofa.feature_names_in_ ],\n",
    "    X_test = X_test[ best_ofa.feature_names_in_ ]\n",
    ")"
   ]
  }
 ],
 "metadata": {
  "kernelspec": {
   "display_name": "Python 3 (ipykernel)",
   "language": "python",
   "name": "python3"
  },
  "language_info": {
   "codemirror_mode": {
    "name": "ipython",
    "version": 3
   },
   "file_extension": ".py",
   "mimetype": "text/x-python",
   "name": "python",
   "nbconvert_exporter": "python",
   "pygments_lexer": "ipython3",
   "version": "3.8.13"
  }
 },
 "nbformat": 4,
 "nbformat_minor": 5
}
