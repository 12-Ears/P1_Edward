{
 "cells": [
  {
   "cell_type": "markdown",
   "id": "46558d83",
   "metadata": {},
   "source": [
    "# 1. Load Libraries"
   ]
  },
  {
   "cell_type": "code",
   "execution_count": 1,
   "id": "70b971a2",
   "metadata": {},
   "outputs": [],
   "source": [
    "import numpy as np\n",
    "import pandas as pd\n",
    "from sklearn.svm import SVC\n",
    "import matplotlib.pyplot as plt\n",
    "from sklearn.preprocessing import StandardScaler\n",
    "from sklearn.model_selection import GridSearchCV\n",
    "from sklearn.inspection import permutation_importance\n",
    "from sklearn.metrics import classification_report, roc_curve, roc_auc_score"
   ]
  },
  {
   "cell_type": "markdown",
   "id": "9f7be330",
   "metadata": {},
   "source": [
    "# 2. Set Default Values"
   ]
  },
  {
   "cell_type": "code",
   "execution_count": 2,
   "id": "428b65c7",
   "metadata": {},
   "outputs": [],
   "source": [
    "k = 10 # k-fold cross validation\n",
    "seed = 12 # 12 ears\n",
    "y = 'OverallPoF' # target\n",
    "hyper_params = { # hyper parameters\n",
    "    'C': [ 0.001, 0.01, 0.1, 1, 10, 100, 1000 ], \n",
    "    'gamma': [ 0.001, 0.01, 0.1, 1, 10, 100, 1000 ]\n",
    "}"
   ]
  },
  {
   "cell_type": "markdown",
   "id": "9cf6e4cc",
   "metadata": {},
   "source": [
    "# 3. Model with OG Samples"
   ]
  },
  {
   "cell_type": "markdown",
   "id": "5fbd176f",
   "metadata": {},
   "source": [
    "### Read Data"
   ]
  },
  {
   "cell_type": "code",
   "execution_count": 3,
   "id": "1c4ab249",
   "metadata": {},
   "outputs": [],
   "source": [
    "sample = '00 - Dataset/03 - Sampling Splits/00 - Original/'"
   ]
  },
  {
   "cell_type": "code",
   "execution_count": 4,
   "id": "72f016cf",
   "metadata": {},
   "outputs": [],
   "source": [
    "X_train = pd.read_csv(sample + 'X_train.csv')\n",
    "y_train = pd.read_csv(sample + 'y_train.csv')\n",
    "X_test = pd.read_csv(sample + 'X_test.csv')\n",
    "y_test = pd.read_csv(sample + 'y_test.csv')"
   ]
  },
  {
   "cell_type": "markdown",
   "id": "53456adb",
   "metadata": {},
   "source": [
    "### Scaling Data"
   ]
  },
  {
   "cell_type": "code",
   "execution_count": 5,
   "id": "d972da29",
   "metadata": {},
   "outputs": [],
   "source": [
    "og_scaler = StandardScaler()\n",
    "X_train = pd.DataFrame(og_scaler.fit_transform(X_train), columns = X_train.columns)\n",
    "X_test = pd.DataFrame(og_scaler.transform(X_test), columns = X_test.columns)"
   ]
  },
  {
   "cell_type": "markdown",
   "id": "6fc40ae8",
   "metadata": {},
   "source": [
    "### Finding Optimal Parameters"
   ]
  },
  {
   "cell_type": "code",
   "execution_count": 6,
   "id": "941f4b39",
   "metadata": {},
   "outputs": [
    {
     "data": {
      "text/plain": [
       "{'C': 0.01, 'gamma': 0.001}"
      ]
     },
     "execution_count": 6,
     "metadata": {},
     "output_type": "execute_result"
    }
   ],
   "source": [
    "base_mdl = SVC(class_weight = 'balanced', random_state = seed, kernel = 'linear')\n",
    "grid = GridSearchCV(\n",
    "    cv = k,\n",
    "    n_jobs = -1, # use all cpu cores\n",
    "    estimator = base_mdl,\n",
    "    scoring = 'f1_weighted',\n",
    "    param_grid = hyper_params,\n",
    ")\n",
    "grid.fit(X_train, y_train[ y ])\n",
    "grid.best_params_"
   ]
  },
  {
   "cell_type": "markdown",
   "id": "9e3cceff",
   "metadata": {},
   "source": [
    "### Refit Model with Optimum Parameters"
   ]
  },
  {
   "cell_type": "code",
   "execution_count": 7,
   "id": "92c604ea",
   "metadata": {},
   "outputs": [
    {
     "data": {
      "text/html": [
       "<style>#sk-container-id-1 {color: black;background-color: white;}#sk-container-id-1 pre{padding: 0;}#sk-container-id-1 div.sk-toggleable {background-color: white;}#sk-container-id-1 label.sk-toggleable__label {cursor: pointer;display: block;width: 100%;margin-bottom: 0;padding: 0.3em;box-sizing: border-box;text-align: center;}#sk-container-id-1 label.sk-toggleable__label-arrow:before {content: \"▸\";float: left;margin-right: 0.25em;color: #696969;}#sk-container-id-1 label.sk-toggleable__label-arrow:hover:before {color: black;}#sk-container-id-1 div.sk-estimator:hover label.sk-toggleable__label-arrow:before {color: black;}#sk-container-id-1 div.sk-toggleable__content {max-height: 0;max-width: 0;overflow: hidden;text-align: left;background-color: #f0f8ff;}#sk-container-id-1 div.sk-toggleable__content pre {margin: 0.2em;color: black;border-radius: 0.25em;background-color: #f0f8ff;}#sk-container-id-1 input.sk-toggleable__control:checked~div.sk-toggleable__content {max-height: 200px;max-width: 100%;overflow: auto;}#sk-container-id-1 input.sk-toggleable__control:checked~label.sk-toggleable__label-arrow:before {content: \"▾\";}#sk-container-id-1 div.sk-estimator input.sk-toggleable__control:checked~label.sk-toggleable__label {background-color: #d4ebff;}#sk-container-id-1 div.sk-label input.sk-toggleable__control:checked~label.sk-toggleable__label {background-color: #d4ebff;}#sk-container-id-1 input.sk-hidden--visually {border: 0;clip: rect(1px 1px 1px 1px);clip: rect(1px, 1px, 1px, 1px);height: 1px;margin: -1px;overflow: hidden;padding: 0;position: absolute;width: 1px;}#sk-container-id-1 div.sk-estimator {font-family: monospace;background-color: #f0f8ff;border: 1px dotted black;border-radius: 0.25em;box-sizing: border-box;margin-bottom: 0.5em;}#sk-container-id-1 div.sk-estimator:hover {background-color: #d4ebff;}#sk-container-id-1 div.sk-parallel-item::after {content: \"\";width: 100%;border-bottom: 1px solid gray;flex-grow: 1;}#sk-container-id-1 div.sk-label:hover label.sk-toggleable__label {background-color: #d4ebff;}#sk-container-id-1 div.sk-serial::before {content: \"\";position: absolute;border-left: 1px solid gray;box-sizing: border-box;top: 0;bottom: 0;left: 50%;z-index: 0;}#sk-container-id-1 div.sk-serial {display: flex;flex-direction: column;align-items: center;background-color: white;padding-right: 0.2em;padding-left: 0.2em;position: relative;}#sk-container-id-1 div.sk-item {position: relative;z-index: 1;}#sk-container-id-1 div.sk-parallel {display: flex;align-items: stretch;justify-content: center;background-color: white;position: relative;}#sk-container-id-1 div.sk-item::before, #sk-container-id-1 div.sk-parallel-item::before {content: \"\";position: absolute;border-left: 1px solid gray;box-sizing: border-box;top: 0;bottom: 0;left: 50%;z-index: -1;}#sk-container-id-1 div.sk-parallel-item {display: flex;flex-direction: column;z-index: 1;position: relative;background-color: white;}#sk-container-id-1 div.sk-parallel-item:first-child::after {align-self: flex-end;width: 50%;}#sk-container-id-1 div.sk-parallel-item:last-child::after {align-self: flex-start;width: 50%;}#sk-container-id-1 div.sk-parallel-item:only-child::after {width: 0;}#sk-container-id-1 div.sk-dashed-wrapped {border: 1px dashed gray;margin: 0 0.4em 0.5em 0.4em;box-sizing: border-box;padding-bottom: 0.4em;background-color: white;}#sk-container-id-1 div.sk-label label {font-family: monospace;font-weight: bold;display: inline-block;line-height: 1.2em;}#sk-container-id-1 div.sk-label-container {text-align: center;}#sk-container-id-1 div.sk-container {/* jupyter's `normalize.less` sets `[hidden] { display: none; }` but bootstrap.min.css set `[hidden] { display: none !important; }` so we also need the `!important` here to be able to override the default hidden behavior on the sphinx rendered scikit-learn.org. See: https://github.com/scikit-learn/scikit-learn/issues/21755 */display: inline-block !important;position: relative;}#sk-container-id-1 div.sk-text-repr-fallback {display: none;}</style><div id=\"sk-container-id-1\" class=\"sk-top-container\"><div class=\"sk-text-repr-fallback\"><pre>SVC(C=0.01, class_weight=&#x27;balanced&#x27;, gamma=0.001, kernel=&#x27;linear&#x27;,\n",
       "    random_state=12)</pre><b>In a Jupyter environment, please rerun this cell to show the HTML representation or trust the notebook. <br />On GitHub, the HTML representation is unable to render, please try loading this page with nbviewer.org.</b></div><div class=\"sk-container\" hidden><div class=\"sk-item\"><div class=\"sk-estimator sk-toggleable\"><input class=\"sk-toggleable__control sk-hidden--visually\" id=\"sk-estimator-id-1\" type=\"checkbox\" checked><label for=\"sk-estimator-id-1\" class=\"sk-toggleable__label sk-toggleable__label-arrow\">SVC</label><div class=\"sk-toggleable__content\"><pre>SVC(C=0.01, class_weight=&#x27;balanced&#x27;, gamma=0.001, kernel=&#x27;linear&#x27;,\n",
       "    random_state=12)</pre></div></div></div></div></div>"
      ],
      "text/plain": [
       "SVC(C=0.01, class_weight='balanced', gamma=0.001, kernel='linear',\n",
       "    random_state=12)"
      ]
     },
     "execution_count": 7,
     "metadata": {},
     "output_type": "execute_result"
    }
   ],
   "source": [
    "og_svc = SVC(\n",
    "    kernel = 'linear',\n",
    "    random_state = seed,\n",
    "    class_weight = 'balanced', \n",
    "    C = 0.01,\n",
    "    gamma = 0.001\n",
    ")\n",
    "og_svc.fit(X_train, y_train[ y ])"
   ]
  },
  {
   "cell_type": "markdown",
   "id": "720f5fb0",
   "metadata": {},
   "source": [
    "### Performance Analysis"
   ]
  },
  {
   "cell_type": "code",
   "execution_count": 8,
   "id": "86cd865a",
   "metadata": {
    "scrolled": true
   },
   "outputs": [
    {
     "name": "stdout",
     "output_type": "stream",
     "text": [
      "              precision    recall  f1-score   support\n",
      "\n",
      "           0       1.00      0.98      0.99       160\n",
      "           1       0.91      1.00      0.95        31\n",
      "\n",
      "    accuracy                           0.98       191\n",
      "   macro avg       0.96      0.99      0.97       191\n",
      "weighted avg       0.99      0.98      0.98       191\n",
      "\n"
     ]
    },
    {
     "data": {
      "image/png": "[encoded data removed]",
      "text/plain": [
       "<Figure size 432x288 with 1 Axes>"
      ]
     },
     "metadata": {
      "needs_background": "light"
     },
     "output_type": "display_data"
    }
   ],
   "source": [
    "print(classification_report(y_train, og_svc.predict(X_train)))\n",
    "coef_plot = pd.Series(\n",
    "    data = abs(og_svc.coef_[ 0 ]), \n",
    "    index = og_svc.feature_names_in_\n",
    ").nlargest(10).sort_values().plot(kind = 'barh')"
   ]
  },
  {
   "cell_type": "markdown",
   "id": "d71fc3c8",
   "metadata": {},
   "source": [
    "# 4. Model with ENN Samples"
   ]
  },
  {
   "cell_type": "markdown",
   "id": "360ab4d7",
   "metadata": {},
   "source": [
    "### Read Data"
   ]
  },
  {
   "cell_type": "code",
   "execution_count": 9,
   "id": "c65ff889",
   "metadata": {},
   "outputs": [],
   "source": [
    "sample = '00 - Dataset/03 - Sampling Splits/01 - ENN/'"
   ]
  },
  {
   "cell_type": "code",
   "execution_count": 10,
   "id": "352b2d78",
   "metadata": {},
   "outputs": [],
   "source": [
    "X_train = pd.read_csv(sample + 'X_train.csv')\n",
    "y_train = pd.read_csv(sample + 'y_train.csv')\n",
    "X_test = pd.read_csv(sample + 'X_test.csv')\n",
    "y_test = pd.read_csv(sample + 'y_test.csv')"
   ]
  },
  {
   "cell_type": "markdown",
   "id": "63add4ac",
   "metadata": {},
   "source": [
    "### Scaling Data"
   ]
  },
  {
   "cell_type": "code",
   "execution_count": 11,
   "id": "e7e5089d",
   "metadata": {},
   "outputs": [],
   "source": [
    "enn_scaler = StandardScaler()\n",
    "X_train = pd.DataFrame(enn_scaler.fit_transform(X_train), columns = X_train.columns)\n",
    "X_test = pd.DataFrame(enn_scaler.transform(X_test), columns = X_test.columns)"
   ]
  },
  {
   "cell_type": "markdown",
   "id": "86880873",
   "metadata": {},
   "source": [
    "### Finding Optimal Parameters"
   ]
  },
  {
   "cell_type": "code",
   "execution_count": 12,
   "id": "4482835c",
   "metadata": {},
   "outputs": [
    {
     "data": {
      "text/plain": [
       "{'C': 0.01, 'gamma': 0.001}"
      ]
     },
     "execution_count": 12,
     "metadata": {},
     "output_type": "execute_result"
    }
   ],
   "source": [
    "base_mdl = SVC(class_weight = 'balanced', random_state = seed, kernel = 'linear')\n",
    "grid = GridSearchCV(\n",
    "    cv = k,\n",
    "    n_jobs = -1, # use all cpu cores\n",
    "    estimator = base_mdl,\n",
    "    scoring = 'f1_weighted',\n",
    "    param_grid = hyper_params,\n",
    ")\n",
    "grid.fit(X_train, y_train[ y ])\n",
    "grid.best_params_"
   ]
  },
  {
   "cell_type": "markdown",
   "id": "4bfbd126",
   "metadata": {},
   "source": [
    "### Refit Model with Optimum Parameters"
   ]
  },
  {
   "cell_type": "code",
   "execution_count": 13,
   "id": "42005fa2",
   "metadata": {},
   "outputs": [
    {
     "data": {
      "text/html": [
       "<style>#sk-container-id-2 {color: black;background-color: white;}#sk-container-id-2 pre{padding: 0;}#sk-container-id-2 div.sk-toggleable {background-color: white;}#sk-container-id-2 label.sk-toggleable__label {cursor: pointer;display: block;width: 100%;margin-bottom: 0;padding: 0.3em;box-sizing: border-box;text-align: center;}#sk-container-id-2 label.sk-toggleable__label-arrow:before {content: \"▸\";float: left;margin-right: 0.25em;color: #696969;}#sk-container-id-2 label.sk-toggleable__label-arrow:hover:before {color: black;}#sk-container-id-2 div.sk-estimator:hover label.sk-toggleable__label-arrow:before {color: black;}#sk-container-id-2 div.sk-toggleable__content {max-height: 0;max-width: 0;overflow: hidden;text-align: left;background-color: #f0f8ff;}#sk-container-id-2 div.sk-toggleable__content pre {margin: 0.2em;color: black;border-radius: 0.25em;background-color: #f0f8ff;}#sk-container-id-2 input.sk-toggleable__control:checked~div.sk-toggleable__content {max-height: 200px;max-width: 100%;overflow: auto;}#sk-container-id-2 input.sk-toggleable__control:checked~label.sk-toggleable__label-arrow:before {content: \"▾\";}#sk-container-id-2 div.sk-estimator input.sk-toggleable__control:checked~label.sk-toggleable__label {background-color: #d4ebff;}#sk-container-id-2 div.sk-label input.sk-toggleable__control:checked~label.sk-toggleable__label {background-color: #d4ebff;}#sk-container-id-2 input.sk-hidden--visually {border: 0;clip: rect(1px 1px 1px 1px);clip: rect(1px, 1px, 1px, 1px);height: 1px;margin: -1px;overflow: hidden;padding: 0;position: absolute;width: 1px;}#sk-container-id-2 div.sk-estimator {font-family: monospace;background-color: #f0f8ff;border: 1px dotted black;border-radius: 0.25em;box-sizing: border-box;margin-bottom: 0.5em;}#sk-container-id-2 div.sk-estimator:hover {background-color: #d4ebff;}#sk-container-id-2 div.sk-parallel-item::after {content: \"\";width: 100%;border-bottom: 1px solid gray;flex-grow: 1;}#sk-container-id-2 div.sk-label:hover label.sk-toggleable__label {background-color: #d4ebff;}#sk-container-id-2 div.sk-serial::before {content: \"\";position: absolute;border-left: 1px solid gray;box-sizing: border-box;top: 0;bottom: 0;left: 50%;z-index: 0;}#sk-container-id-2 div.sk-serial {display: flex;flex-direction: column;align-items: center;background-color: white;padding-right: 0.2em;padding-left: 0.2em;position: relative;}#sk-container-id-2 div.sk-item {position: relative;z-index: 1;}#sk-container-id-2 div.sk-parallel {display: flex;align-items: stretch;justify-content: center;background-color: white;position: relative;}#sk-container-id-2 div.sk-item::before, #sk-container-id-2 div.sk-parallel-item::before {content: \"\";position: absolute;border-left: 1px solid gray;box-sizing: border-box;top: 0;bottom: 0;left: 50%;z-index: -1;}#sk-container-id-2 div.sk-parallel-item {display: flex;flex-direction: column;z-index: 1;position: relative;background-color: white;}#sk-container-id-2 div.sk-parallel-item:first-child::after {align-self: flex-end;width: 50%;}#sk-container-id-2 div.sk-parallel-item:last-child::after {align-self: flex-start;width: 50%;}#sk-container-id-2 div.sk-parallel-item:only-child::after {width: 0;}#sk-container-id-2 div.sk-dashed-wrapped {border: 1px dashed gray;margin: 0 0.4em 0.5em 0.4em;box-sizing: border-box;padding-bottom: 0.4em;background-color: white;}#sk-container-id-2 div.sk-label label {font-family: monospace;font-weight: bold;display: inline-block;line-height: 1.2em;}#sk-container-id-2 div.sk-label-container {text-align: center;}#sk-container-id-2 div.sk-container {/* jupyter's `normalize.less` sets `[hidden] { display: none; }` but bootstrap.min.css set `[hidden] { display: none !important; }` so we also need the `!important` here to be able to override the default hidden behavior on the sphinx rendered scikit-learn.org. See: https://github.com/scikit-learn/scikit-learn/issues/21755 */display: inline-block !important;position: relative;}#sk-container-id-2 div.sk-text-repr-fallback {display: none;}</style><div id=\"sk-container-id-2\" class=\"sk-top-container\"><div class=\"sk-text-repr-fallback\"><pre>SVC(C=0.01, class_weight=&#x27;balanced&#x27;, gamma=0.001, kernel=&#x27;linear&#x27;,\n",
       "    random_state=12)</pre><b>In a Jupyter environment, please rerun this cell to show the HTML representation or trust the notebook. <br />On GitHub, the HTML representation is unable to render, please try loading this page with nbviewer.org.</b></div><div class=\"sk-container\" hidden><div class=\"sk-item\"><div class=\"sk-estimator sk-toggleable\"><input class=\"sk-toggleable__control sk-hidden--visually\" id=\"sk-estimator-id-2\" type=\"checkbox\" checked><label for=\"sk-estimator-id-2\" class=\"sk-toggleable__label sk-toggleable__label-arrow\">SVC</label><div class=\"sk-toggleable__content\"><pre>SVC(C=0.01, class_weight=&#x27;balanced&#x27;, gamma=0.001, kernel=&#x27;linear&#x27;,\n",
       "    random_state=12)</pre></div></div></div></div></div>"
      ],
      "text/plain": [
       "SVC(C=0.01, class_weight='balanced', gamma=0.001, kernel='linear',\n",
       "    random_state=12)"
      ]
     },
     "execution_count": 13,
     "metadata": {},
     "output_type": "execute_result"
    }
   ],
   "source": [
    "enn_svc = SVC(\n",
    "    kernel = 'linear',\n",
    "    random_state = seed,\n",
    "    class_weight = 'balanced', \n",
    "    C = 0.01,\n",
    "    gamma = 0.001,\n",
    ")\n",
    "enn_svc.fit(X_train, y_train[ y ])"
   ]
  },
  {
   "cell_type": "markdown",
   "id": "ccb98331",
   "metadata": {},
   "source": [
    "### Performance Analysis"
   ]
  },
  {
   "cell_type": "code",
   "execution_count": 14,
   "id": "88d79b04",
   "metadata": {
    "scrolled": true
   },
   "outputs": [
    {
     "name": "stdout",
     "output_type": "stream",
     "text": [
      "              precision    recall  f1-score   support\n",
      "\n",
      "           0       0.98      0.99      0.99       113\n",
      "           1       0.97      0.94      0.95        31\n",
      "\n",
      "    accuracy                           0.98       144\n",
      "   macro avg       0.97      0.96      0.97       144\n",
      "weighted avg       0.98      0.98      0.98       144\n",
      "\n"
     ]
    },
    {
     "data": {
      "image/png": "[encoded data removed]",
      "text/plain": [
       "<Figure size 432x288 with 1 Axes>"
      ]
     },
     "metadata": {
      "needs_background": "light"
     },
     "output_type": "display_data"
    }
   ],
   "source": [
    "print(classification_report(y_train, enn_svc.predict(X_train)))\n",
    "coef_plot = pd.Series(\n",
    "    data = abs(enn_svc.coef_[ 0 ]), \n",
    "    index = enn_svc.feature_names_in_\n",
    ").nlargest(10).sort_values().plot(kind = 'barh')"
   ]
  },
  {
   "cell_type": "markdown",
   "id": "6aa17cbb",
   "metadata": {},
   "source": [
    "# 5. Model with SMOTE Samples"
   ]
  },
  {
   "cell_type": "markdown",
   "id": "c573d202",
   "metadata": {},
   "source": [
    "### Read Data"
   ]
  },
  {
   "cell_type": "code",
   "execution_count": 15,
   "id": "81f080ff",
   "metadata": {},
   "outputs": [],
   "source": [
    "sample = '00 - Dataset/03 - Sampling Splits/02 - SMOTE/'"
   ]
  },
  {
   "cell_type": "code",
   "execution_count": 16,
   "id": "df58c80d",
   "metadata": {},
   "outputs": [],
   "source": [
    "X_train = pd.read_csv(sample + 'X_train.csv')\n",
    "y_train = pd.read_csv(sample + 'y_train.csv')\n",
    "X_test = pd.read_csv(sample + 'X_test.csv')\n",
    "y_test = pd.read_csv(sample + 'y_test.csv')"
   ]
  },
  {
   "cell_type": "markdown",
   "id": "d830c675",
   "metadata": {},
   "source": [
    "### Scaling Data"
   ]
  },
  {
   "cell_type": "code",
   "execution_count": 17,
   "id": "232fed58",
   "metadata": {},
   "outputs": [],
   "source": [
    "smt_scaler = StandardScaler()\n",
    "X_train = pd.DataFrame(smt_scaler.fit_transform(X_train), columns = X_train.columns)\n",
    "X_test = pd.DataFrame(smt_scaler.transform(X_test), columns = X_test.columns)"
   ]
  },
  {
   "cell_type": "markdown",
   "id": "c3d059f3",
   "metadata": {},
   "source": [
    "### Finding Optimal Parameters"
   ]
  },
  {
   "cell_type": "code",
   "execution_count": 18,
   "id": "d9b5ae2e",
   "metadata": {},
   "outputs": [
    {
     "data": {
      "text/plain": [
       "{'C': 1, 'gamma': 0.001}"
      ]
     },
     "execution_count": 18,
     "metadata": {},
     "output_type": "execute_result"
    }
   ],
   "source": [
    "base_mdl = SVC(class_weight = 'balanced', random_state = seed, kernel = 'linear')\n",
    "grid = GridSearchCV(\n",
    "    cv = k,\n",
    "    n_jobs = -1, # use all cpu cores\n",
    "    estimator = base_mdl,\n",
    "    scoring = 'f1_weighted',\n",
    "    param_grid = hyper_params,\n",
    ")\n",
    "grid.fit(X_train, y_train[ y ])\n",
    "grid.best_params_"
   ]
  },
  {
   "cell_type": "markdown",
   "id": "be1b8721",
   "metadata": {},
   "source": [
    "### Refit Model with Optimum Parameters"
   ]
  },
  {
   "cell_type": "code",
   "execution_count": 19,
   "id": "316418cd",
   "metadata": {},
   "outputs": [
    {
     "data": {
      "text/html": [
       "<style>#sk-container-id-3 {color: black;background-color: white;}#sk-container-id-3 pre{padding: 0;}#sk-container-id-3 div.sk-toggleable {background-color: white;}#sk-container-id-3 label.sk-toggleable__label {cursor: pointer;display: block;width: 100%;margin-bottom: 0;padding: 0.3em;box-sizing: border-box;text-align: center;}#sk-container-id-3 label.sk-toggleable__label-arrow:before {content: \"▸\";float: left;margin-right: 0.25em;color: #696969;}#sk-container-id-3 label.sk-toggleable__label-arrow:hover:before {color: black;}#sk-container-id-3 div.sk-estimator:hover label.sk-toggleable__label-arrow:before {color: black;}#sk-container-id-3 div.sk-toggleable__content {max-height: 0;max-width: 0;overflow: hidden;text-align: left;background-color: #f0f8ff;}#sk-container-id-3 div.sk-toggleable__content pre {margin: 0.2em;color: black;border-radius: 0.25em;background-color: #f0f8ff;}#sk-container-id-3 input.sk-toggleable__control:checked~div.sk-toggleable__content {max-height: 200px;max-width: 100%;overflow: auto;}#sk-container-id-3 input.sk-toggleable__control:checked~label.sk-toggleable__label-arrow:before {content: \"▾\";}#sk-container-id-3 div.sk-estimator input.sk-toggleable__control:checked~label.sk-toggleable__label {background-color: #d4ebff;}#sk-container-id-3 div.sk-label input.sk-toggleable__control:checked~label.sk-toggleable__label {background-color: #d4ebff;}#sk-container-id-3 input.sk-hidden--visually {border: 0;clip: rect(1px 1px 1px 1px);clip: rect(1px, 1px, 1px, 1px);height: 1px;margin: -1px;overflow: hidden;padding: 0;position: absolute;width: 1px;}#sk-container-id-3 div.sk-estimator {font-family: monospace;background-color: #f0f8ff;border: 1px dotted black;border-radius: 0.25em;box-sizing: border-box;margin-bottom: 0.5em;}#sk-container-id-3 div.sk-estimator:hover {background-color: #d4ebff;}#sk-container-id-3 div.sk-parallel-item::after {content: \"\";width: 100%;border-bottom: 1px solid gray;flex-grow: 1;}#sk-container-id-3 div.sk-label:hover label.sk-toggleable__label {background-color: #d4ebff;}#sk-container-id-3 div.sk-serial::before {content: \"\";position: absolute;border-left: 1px solid gray;box-sizing: border-box;top: 0;bottom: 0;left: 50%;z-index: 0;}#sk-container-id-3 div.sk-serial {display: flex;flex-direction: column;align-items: center;background-color: white;padding-right: 0.2em;padding-left: 0.2em;position: relative;}#sk-container-id-3 div.sk-item {position: relative;z-index: 1;}#sk-container-id-3 div.sk-parallel {display: flex;align-items: stretch;justify-content: center;background-color: white;position: relative;}#sk-container-id-3 div.sk-item::before, #sk-container-id-3 div.sk-parallel-item::before {content: \"\";position: absolute;border-left: 1px solid gray;box-sizing: border-box;top: 0;bottom: 0;left: 50%;z-index: -1;}#sk-container-id-3 div.sk-parallel-item {display: flex;flex-direction: column;z-index: 1;position: relative;background-color: white;}#sk-container-id-3 div.sk-parallel-item:first-child::after {align-self: flex-end;width: 50%;}#sk-container-id-3 div.sk-parallel-item:last-child::after {align-self: flex-start;width: 50%;}#sk-container-id-3 div.sk-parallel-item:only-child::after {width: 0;}#sk-container-id-3 div.sk-dashed-wrapped {border: 1px dashed gray;margin: 0 0.4em 0.5em 0.4em;box-sizing: border-box;padding-bottom: 0.4em;background-color: white;}#sk-container-id-3 div.sk-label label {font-family: monospace;font-weight: bold;display: inline-block;line-height: 1.2em;}#sk-container-id-3 div.sk-label-container {text-align: center;}#sk-container-id-3 div.sk-container {/* jupyter's `normalize.less` sets `[hidden] { display: none; }` but bootstrap.min.css set `[hidden] { display: none !important; }` so we also need the `!important` here to be able to override the default hidden behavior on the sphinx rendered scikit-learn.org. See: https://github.com/scikit-learn/scikit-learn/issues/21755 */display: inline-block !important;position: relative;}#sk-container-id-3 div.sk-text-repr-fallback {display: none;}</style><div id=\"sk-container-id-3\" class=\"sk-top-container\"><div class=\"sk-text-repr-fallback\"><pre>SVC(C=1, class_weight=&#x27;balanced&#x27;, gamma=0.001, kernel=&#x27;linear&#x27;, random_state=12)</pre><b>In a Jupyter environment, please rerun this cell to show the HTML representation or trust the notebook. <br />On GitHub, the HTML representation is unable to render, please try loading this page with nbviewer.org.</b></div><div class=\"sk-container\" hidden><div class=\"sk-item\"><div class=\"sk-estimator sk-toggleable\"><input class=\"sk-toggleable__control sk-hidden--visually\" id=\"sk-estimator-id-3\" type=\"checkbox\" checked><label for=\"sk-estimator-id-3\" class=\"sk-toggleable__label sk-toggleable__label-arrow\">SVC</label><div class=\"sk-toggleable__content\"><pre>SVC(C=1, class_weight=&#x27;balanced&#x27;, gamma=0.001, kernel=&#x27;linear&#x27;, random_state=12)</pre></div></div></div></div></div>"
      ],
      "text/plain": [
       "SVC(C=1, class_weight='balanced', gamma=0.001, kernel='linear', random_state=12)"
      ]
     },
     "execution_count": 19,
     "metadata": {},
     "output_type": "execute_result"
    }
   ],
   "source": [
    "smt_svc = SVC(\n",
    "    kernel = 'linear',\n",
    "    random_state = seed,\n",
    "    class_weight = 'balanced', \n",
    "    C = 1,\n",
    "    gamma = 0.001,\n",
    ")\n",
    "smt_svc.fit(X_train, y_train[ y ])"
   ]
  },
  {
   "cell_type": "markdown",
   "id": "01a91fcf",
   "metadata": {},
   "source": [
    "### Performance Analysis"
   ]
  },
  {
   "cell_type": "code",
   "execution_count": 20,
   "id": "f94a493a",
   "metadata": {
    "scrolled": true
   },
   "outputs": [
    {
     "name": "stdout",
     "output_type": "stream",
     "text": [
      "              precision    recall  f1-score   support\n",
      "\n",
      "           0       1.00      1.00      1.00       160\n",
      "           1       1.00      1.00      1.00       160\n",
      "\n",
      "    accuracy                           1.00       320\n",
      "   macro avg       1.00      1.00      1.00       320\n",
      "weighted avg       1.00      1.00      1.00       320\n",
      "\n"
     ]
    },
    {
     "data": {
      "image/png": "[encoded data removed]",
      "text/plain": [
       "<Figure size 432x288 with 1 Axes>"
      ]
     },
     "metadata": {
      "needs_background": "light"
     },
     "output_type": "display_data"
    }
   ],
   "source": [
    "print(classification_report(y_train, smt_svc.predict(X_train)))\n",
    "coef_plot = pd.Series(\n",
    "    data = abs(smt_svc.coef_[ 0 ]), \n",
    "    index = smt_svc.feature_names_in_\n",
    ").nlargest(10).sort_values().plot(kind = 'barh')"
   ]
  },
  {
   "cell_type": "markdown",
   "id": "88be4680",
   "metadata": {},
   "source": [
    "# 6. Model with SMOTEENN Samples"
   ]
  },
  {
   "cell_type": "markdown",
   "id": "9e8facef",
   "metadata": {},
   "source": [
    "### Read Data"
   ]
  },
  {
   "cell_type": "code",
   "execution_count": 21,
   "id": "3aefd4e2",
   "metadata": {},
   "outputs": [],
   "source": [
    "sample = '00 - Dataset/03 - Sampling Splits/03 - SMOTEENN/'"
   ]
  },
  {
   "cell_type": "code",
   "execution_count": 22,
   "id": "409eb1e1",
   "metadata": {},
   "outputs": [],
   "source": [
    "X_train = pd.read_csv(sample + 'X_train.csv')\n",
    "y_train = pd.read_csv(sample + 'y_train.csv')\n",
    "X_test = pd.read_csv(sample + 'X_test.csv')\n",
    "y_test = pd.read_csv(sample + 'y_test.csv')"
   ]
  },
  {
   "cell_type": "markdown",
   "id": "a33e4f1e",
   "metadata": {},
   "source": [
    "### Scaling Data"
   ]
  },
  {
   "cell_type": "code",
   "execution_count": 23,
   "id": "f0de2b28",
   "metadata": {},
   "outputs": [],
   "source": [
    "sen_scaler = StandardScaler()\n",
    "X_train = pd.DataFrame(sen_scaler.fit_transform(X_train), columns = X_train.columns)\n",
    "X_test = pd.DataFrame(sen_scaler.transform(X_test), columns = X_test.columns)"
   ]
  },
  {
   "cell_type": "markdown",
   "id": "580d4f38",
   "metadata": {},
   "source": [
    "### Finding Optimal Parameters"
   ]
  },
  {
   "cell_type": "code",
   "execution_count": 24,
   "id": "23c394a6",
   "metadata": {},
   "outputs": [
    {
     "data": {
      "text/plain": [
       "{'C': 0.1, 'gamma': 0.001}"
      ]
     },
     "execution_count": 24,
     "metadata": {},
     "output_type": "execute_result"
    }
   ],
   "source": [
    "base_mdl = SVC(class_weight = 'balanced', random_state = seed, kernel = 'linear')\n",
    "grid = GridSearchCV(\n",
    "    cv = k,\n",
    "    n_jobs = -1, # use all cpu cores\n",
    "    estimator = base_mdl,\n",
    "    scoring = 'f1_weighted',\n",
    "    param_grid = hyper_params,\n",
    ")\n",
    "grid.fit(X_train, y_train[ y ])\n",
    "grid.best_params_"
   ]
  },
  {
   "cell_type": "markdown",
   "id": "055824f8",
   "metadata": {},
   "source": [
    "### Refit Model with Optimum Parameters"
   ]
  },
  {
   "cell_type": "code",
   "execution_count": 25,
   "id": "a0b8b288",
   "metadata": {},
   "outputs": [
    {
     "data": {
      "text/html": [
       "<style>#sk-container-id-4 {color: black;background-color: white;}#sk-container-id-4 pre{padding: 0;}#sk-container-id-4 div.sk-toggleable {background-color: white;}#sk-container-id-4 label.sk-toggleable__label {cursor: pointer;display: block;width: 100%;margin-bottom: 0;padding: 0.3em;box-sizing: border-box;text-align: center;}#sk-container-id-4 label.sk-toggleable__label-arrow:before {content: \"▸\";float: left;margin-right: 0.25em;color: #696969;}#sk-container-id-4 label.sk-toggleable__label-arrow:hover:before {color: black;}#sk-container-id-4 div.sk-estimator:hover label.sk-toggleable__label-arrow:before {color: black;}#sk-container-id-4 div.sk-toggleable__content {max-height: 0;max-width: 0;overflow: hidden;text-align: left;background-color: #f0f8ff;}#sk-container-id-4 div.sk-toggleable__content pre {margin: 0.2em;color: black;border-radius: 0.25em;background-color: #f0f8ff;}#sk-container-id-4 input.sk-toggleable__control:checked~div.sk-toggleable__content {max-height: 200px;max-width: 100%;overflow: auto;}#sk-container-id-4 input.sk-toggleable__control:checked~label.sk-toggleable__label-arrow:before {content: \"▾\";}#sk-container-id-4 div.sk-estimator input.sk-toggleable__control:checked~label.sk-toggleable__label {background-color: #d4ebff;}#sk-container-id-4 div.sk-label input.sk-toggleable__control:checked~label.sk-toggleable__label {background-color: #d4ebff;}#sk-container-id-4 input.sk-hidden--visually {border: 0;clip: rect(1px 1px 1px 1px);clip: rect(1px, 1px, 1px, 1px);height: 1px;margin: -1px;overflow: hidden;padding: 0;position: absolute;width: 1px;}#sk-container-id-4 div.sk-estimator {font-family: monospace;background-color: #f0f8ff;border: 1px dotted black;border-radius: 0.25em;box-sizing: border-box;margin-bottom: 0.5em;}#sk-container-id-4 div.sk-estimator:hover {background-color: #d4ebff;}#sk-container-id-4 div.sk-parallel-item::after {content: \"\";width: 100%;border-bottom: 1px solid gray;flex-grow: 1;}#sk-container-id-4 div.sk-label:hover label.sk-toggleable__label {background-color: #d4ebff;}#sk-container-id-4 div.sk-serial::before {content: \"\";position: absolute;border-left: 1px solid gray;box-sizing: border-box;top: 0;bottom: 0;left: 50%;z-index: 0;}#sk-container-id-4 div.sk-serial {display: flex;flex-direction: column;align-items: center;background-color: white;padding-right: 0.2em;padding-left: 0.2em;position: relative;}#sk-container-id-4 div.sk-item {position: relative;z-index: 1;}#sk-container-id-4 div.sk-parallel {display: flex;align-items: stretch;justify-content: center;background-color: white;position: relative;}#sk-container-id-4 div.sk-item::before, #sk-container-id-4 div.sk-parallel-item::before {content: \"\";position: absolute;border-left: 1px solid gray;box-sizing: border-box;top: 0;bottom: 0;left: 50%;z-index: -1;}#sk-container-id-4 div.sk-parallel-item {display: flex;flex-direction: column;z-index: 1;position: relative;background-color: white;}#sk-container-id-4 div.sk-parallel-item:first-child::after {align-self: flex-end;width: 50%;}#sk-container-id-4 div.sk-parallel-item:last-child::after {align-self: flex-start;width: 50%;}#sk-container-id-4 div.sk-parallel-item:only-child::after {width: 0;}#sk-container-id-4 div.sk-dashed-wrapped {border: 1px dashed gray;margin: 0 0.4em 0.5em 0.4em;box-sizing: border-box;padding-bottom: 0.4em;background-color: white;}#sk-container-id-4 div.sk-label label {font-family: monospace;font-weight: bold;display: inline-block;line-height: 1.2em;}#sk-container-id-4 div.sk-label-container {text-align: center;}#sk-container-id-4 div.sk-container {/* jupyter's `normalize.less` sets `[hidden] { display: none; }` but bootstrap.min.css set `[hidden] { display: none !important; }` so we also need the `!important` here to be able to override the default hidden behavior on the sphinx rendered scikit-learn.org. See: https://github.com/scikit-learn/scikit-learn/issues/21755 */display: inline-block !important;position: relative;}#sk-container-id-4 div.sk-text-repr-fallback {display: none;}</style><div id=\"sk-container-id-4\" class=\"sk-top-container\"><div class=\"sk-text-repr-fallback\"><pre>SVC(C=0.1, class_weight=&#x27;balanced&#x27;, gamma=0.001, kernel=&#x27;linear&#x27;,\n",
       "    random_state=12)</pre><b>In a Jupyter environment, please rerun this cell to show the HTML representation or trust the notebook. <br />On GitHub, the HTML representation is unable to render, please try loading this page with nbviewer.org.</b></div><div class=\"sk-container\" hidden><div class=\"sk-item\"><div class=\"sk-estimator sk-toggleable\"><input class=\"sk-toggleable__control sk-hidden--visually\" id=\"sk-estimator-id-4\" type=\"checkbox\" checked><label for=\"sk-estimator-id-4\" class=\"sk-toggleable__label sk-toggleable__label-arrow\">SVC</label><div class=\"sk-toggleable__content\"><pre>SVC(C=0.1, class_weight=&#x27;balanced&#x27;, gamma=0.001, kernel=&#x27;linear&#x27;,\n",
       "    random_state=12)</pre></div></div></div></div></div>"
      ],
      "text/plain": [
       "SVC(C=0.1, class_weight='balanced', gamma=0.001, kernel='linear',\n",
       "    random_state=12)"
      ]
     },
     "execution_count": 25,
     "metadata": {},
     "output_type": "execute_result"
    }
   ],
   "source": [
    "sen_svc = SVC(\n",
    "    kernel = 'linear',\n",
    "    random_state = seed,\n",
    "    class_weight = 'balanced', \n",
    "    C = 0.1,\n",
    "    gamma = 0.001,\n",
    ")\n",
    "sen_svc.fit(X_train, y_train[ y ])"
   ]
  },
  {
   "cell_type": "markdown",
   "id": "0bd28c92",
   "metadata": {},
   "source": [
    "### Performance Analysis"
   ]
  },
  {
   "cell_type": "code",
   "execution_count": 26,
   "id": "c28748a0",
   "metadata": {
    "scrolled": true
   },
   "outputs": [
    {
     "name": "stdout",
     "output_type": "stream",
     "text": [
      "              precision    recall  f1-score   support\n",
      "\n",
      "           0       1.00      1.00      1.00        85\n",
      "           1       1.00      1.00      1.00       160\n",
      "\n",
      "    accuracy                           1.00       245\n",
      "   macro avg       1.00      1.00      1.00       245\n",
      "weighted avg       1.00      1.00      1.00       245\n",
      "\n"
     ]
    },
    {
     "data": {
      "image/png": "[encoded data removed]",
      "text/plain": [
       "<Figure size 432x288 with 1 Axes>"
      ]
     },
     "metadata": {
      "needs_background": "light"
     },
     "output_type": "display_data"
    }
   ],
   "source": [
    "print(classification_report(y_train, sen_svc.predict(X_train)))\n",
    "coef_plot = pd.Series(\n",
    "    data = abs(sen_svc.coef_[ 0 ]), \n",
    "    index = sen_svc.feature_names_in_\n",
    ").nlargest(10).sort_values().plot(kind = 'barh')"
   ]
  },
  {
   "cell_type": "markdown",
   "id": "f8c600f3",
   "metadata": {},
   "source": [
    "# 6. Comparison on Test"
   ]
  },
  {
   "cell_type": "code",
   "execution_count": 27,
   "id": "7c8848c2",
   "metadata": {},
   "outputs": [
    {
     "name": "stdout",
     "output_type": "stream",
     "text": [
      "              precision    recall  f1-score   support\n",
      "\n",
      "           0       1.00      0.98      0.99        41\n",
      "           1       0.88      1.00      0.93         7\n",
      "\n",
      "    accuracy                           0.98        48\n",
      "   macro avg       0.94      0.99      0.96        48\n",
      "weighted avg       0.98      0.98      0.98        48\n",
      "\n"
     ]
    }
   ],
   "source": [
    "print(classification_report(y_test, og_svc.predict(X_test)))"
   ]
  },
  {
   "cell_type": "code",
   "execution_count": 28,
   "id": "f4b6c317",
   "metadata": {},
   "outputs": [
    {
     "name": "stdout",
     "output_type": "stream",
     "text": [
      "              precision    recall  f1-score   support\n",
      "\n",
      "           0       1.00      0.98      0.99        41\n",
      "           1       0.88      1.00      0.93         7\n",
      "\n",
      "    accuracy                           0.98        48\n",
      "   macro avg       0.94      0.99      0.96        48\n",
      "weighted avg       0.98      0.98      0.98        48\n",
      "\n"
     ]
    }
   ],
   "source": [
    "print(classification_report(y_test, enn_svc.predict(X_test)))"
   ]
  },
  {
   "cell_type": "code",
   "execution_count": 29,
   "id": "1f42ea36",
   "metadata": {},
   "outputs": [
    {
     "name": "stdout",
     "output_type": "stream",
     "text": [
      "              precision    recall  f1-score   support\n",
      "\n",
      "           0       1.00      0.98      0.99        41\n",
      "           1       0.88      1.00      0.93         7\n",
      "\n",
      "    accuracy                           0.98        48\n",
      "   macro avg       0.94      0.99      0.96        48\n",
      "weighted avg       0.98      0.98      0.98        48\n",
      "\n"
     ]
    }
   ],
   "source": [
    "print(classification_report(y_test, smt_svc.predict(X_test)))"
   ]
  },
  {
   "cell_type": "code",
   "execution_count": 30,
   "id": "76a930ae",
   "metadata": {},
   "outputs": [
    {
     "name": "stdout",
     "output_type": "stream",
     "text": [
      "              precision    recall  f1-score   support\n",
      "\n",
      "           0       1.00      0.85      0.92        41\n",
      "           1       0.54      1.00      0.70         7\n",
      "\n",
      "    accuracy                           0.88        48\n",
      "   macro avg       0.77      0.93      0.81        48\n",
      "weighted avg       0.93      0.88      0.89        48\n",
      "\n"
     ]
    }
   ],
   "source": [
    "print(classification_report(y_test, sen_svc.predict(X_test)))"
   ]
  },
  {
   "cell_type": "code",
   "execution_count": 33,
   "id": "49229e96",
   "metadata": {},
   "outputs": [
    {
     "data": {
      "image/png": "[encoded data removed]",
      "text/plain": [
       "<Figure size 432x288 with 1 Axes>"
      ]
     },
     "metadata": {
      "needs_background": "light"
     },
     "output_type": "display_data"
    }
   ],
   "source": [
    "plt.figure()\n",
    "\n",
    "# Add the models to the list that you want to view on the ROC plot\n",
    "models = [\n",
    "    {\n",
    "        'label': 'SVM with Original Set',\n",
    "        'model': og_svc,\n",
    "    },\n",
    "    {\n",
    "        'label': 'SVM with ENN Set',\n",
    "        'model': enn_svc,\n",
    "    },\n",
    "    {\n",
    "        'label': 'SVM with SMOTE Set',\n",
    "        'model': smt_svc,\n",
    "    },\n",
    "    {\n",
    "        'label': 'SVM with SMOTEENN Set',\n",
    "        'model': sen_svc,\n",
    "    }\n",
    "]\n",
    "\n",
    "# Below for loop iterates through your models list\n",
    "for m in models:\n",
    "    model = m[ 'model' ] # select the model\n",
    "    y_pred = model.predict(X_test) # predict the test data\n",
    "# Compute False postive rate, and True positive rate\n",
    "    fpr, tpr, thresholds = roc_curve(y_test, y_pred)\n",
    "# Calculate Area under the curve to display on the plot\n",
    "    auc = roc_auc_score(y_test, y_pred)\n",
    "# Now, plot the computed values\n",
    "    plt.plot(fpr, tpr, label = '%s ROC (area = %0.2f)' % (m[ 'label' ], auc))\n",
    "# Custom settings for the plot \n",
    "plt.plot([ 0, 1 ], [ 0, 1 ],'r--')\n",
    "plt.xlim([ 0.0, 1.0 ])\n",
    "plt.ylim([ 0.0, 1.05 ])\n",
    "plt.xlabel('1 - Specificity(False Positive Rate)')\n",
    "plt.ylabel('Sensitivity(True Positive Rate)')\n",
    "plt.title('Receiver Operating Characteristic')\n",
    "plt.legend(loc = 'lower right')\n",
    "plt.show()   # Display"
   ]
  }
 ],
 "metadata": {
  "kernelspec": {
   "display_name": "Python 3 (ipykernel)",
   "language": "python",
   "name": "python3"
  },
  "language_info": {
   "codemirror_mode": {
    "name": "ipython",
    "version": 3
   },
   "file_extension": ".py",
   "mimetype": "text/x-python",
   "name": "python",
   "nbconvert_exporter": "python",
   "pygments_lexer": "ipython3",
   "version": "3.8.13"
  }
 },
 "nbformat": 4,
 "nbformat_minor": 5
}
